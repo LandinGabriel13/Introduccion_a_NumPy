{
 "cells": [
  {
   "cell_type": "markdown",
   "id": "ce70cc2f-a307-49a8-b8e7-1c4c49a23609",
   "metadata": {},
   "source": [
    "# Introducción a NumPy "
   ]
  },
  {
   "cell_type": "markdown",
   "id": "c587fff1-e416-4b07-9c34-a33976c6d3d2",
   "metadata": {},
   "source": [
    "**Elaboración: Gabriel Armando Landín Alvarado**"
   ]
  },
  {
   "cell_type": "markdown",
   "id": "1a867861-5c4d-40d1-80a2-0862566ce8db",
   "metadata": {},
   "source": [
    "## Contenido"
   ]
  },
  {
   "cell_type": "markdown",
   "id": "c28a6471-ba41-44f8-afdf-b80da126a2b0",
   "metadata": {},
   "source": [
    "* Definición de la libreria NumPy\n",
    "* Crear objetos array\n",
    "  * Array de una dimensión\n",
    "  * Tipos de dato\n",
    "  * Array de dos dimensiones\n",
    "  * Atributos\n",
    "    * Array de tres dimensiones\n",
    "  * Crear array básico\n",
    "  * Crear array a partir de una entrada\n",
    "* Indexación y segmentación\n",
    "* Manipular la forma\n",
    "* Insertar, eliminar y ordenar elementos\n",
    "* Unir y dividir\n",
    "* Funciones estadísticas\n",
    "  * Mínimos y máximos\n",
    "  * Media y media ponderada\n",
    "  * Mediana\n",
    "  * Desviación estándar\n",
    "  * Varianza\n",
    "  * Percentiles\n",
    "* Operaciones númericas básicas\n",
    "* Escritura en archivos\n",
    "* Lectura de archivos"
   ]
  },
  {
   "cell_type": "markdown",
   "id": "ff5e862a-5c3c-4e76-b7d6-aba9fba9cf57",
   "metadata": {},
   "source": [
    "## Definición de la libreria NumPy"
   ]
  },
  {
   "cell_type": "markdown",
   "id": "18456001-93ce-4c9e-a3d9-435f065f6235",
   "metadata": {},
   "source": [
    "**NumPy** (Python-Númerico) es una librería de Python para análisis de datos númericos, es importante destacar que es mucho más eficiente en el uso de memoria que **Pandas**. **NumPy** da soporte en la creación de objetos de tipo vector(**unidimensional**) o matrices (**bidimensional**) comúnmente nombrados array(s), se puede crear arrays de tres o más dimensiones (**ndarray**), esto podría entenderse como una forma apilada de 'n' arrays o matrices. **NumPy** provee una variedad de funciones que operan de manera muy rápida, se incluyen por supuesto las de tipo matemático de alto nivel, pero también se tienen las de tipo lógico, de forma, ordenamiento y selección, así como operaciones de computación científica, como son las transformadas de Fourier, álgebra lineal, operaciones de estadística, simulación aleatoria, entre otras."
   ]
  },
  {
   "cell_type": "markdown",
   "id": "b725ff9d-0f19-4d2a-ae48-8f6171ce3dfd",
   "metadata": {},
   "source": [
    "## Crear objetos array"
   ]
  },
  {
   "cell_type": "markdown",
   "id": "2f8564f4-e311-4ca7-85b6-5362fc7e03d5",
   "metadata": {},
   "source": [
    "Para craer un objeto de tipo array NumPy provee la función **array()** que recibe como parámetros básicos un objeto y el tipo de dato. En el siguiente ejemplo, lo primero será importar la librería NumPy y asignarle un alias, en este caso por convención será **'np'**, lo siguiente es crear un par de arrays a partir de una lista y tupla de python, ambos array son de una dimensión (1-D). "
   ]
  },
  {
   "cell_type": "markdown",
   "id": "1440e11c-87f7-42ba-8c6c-96747341234f",
   "metadata": {},
   "source": [
    "### Array de una dimensión"
   ]
  },
  {
   "cell_type": "code",
   "execution_count": 1,
   "id": "e7e10ada-4c45-4dbf-b0f6-b37b489ae60e",
   "metadata": {},
   "outputs": [
    {
     "name": "stdout",
     "output_type": "stream",
     "text": [
      "Array 1 de 1-D: [1 2 3 4 5]\n",
      "Array 2 de 1-D: [ 6  7  8  9 10]\n"
     ]
    }
   ],
   "source": [
    "import numpy as np \n",
    "\n",
    "array_1 = np.array([1, 2, 3, 4, 5])\n",
    "array_2 = np.array((6, 7, 8, 9, 10))\n",
    "print('Array 1 de 1-D:', array_1)\n",
    "print('Array 2 de 1-D:', array_2)"
   ]
  },
  {
   "cell_type": "markdown",
   "id": "6eeb8334-5cc8-4227-8925-04db5fa1cb51",
   "metadata": {},
   "source": [
    "### Tipos de dato"
   ]
  },
  {
   "cell_type": "markdown",
   "id": "80e7ff74-4ff0-41a2-918a-49fccafc9e31",
   "metadata": {},
   "source": [
    "Algunos de los tipos de datos más comunes que incluye Numpy son: \n",
    "\n",
    "* **int32, int64:** enteros de 32 y 64 bits.\n",
    "* **float32, float64:** números decimales o flotantes de 32 y 64 bits.\n",
    "* **complex64, complex128:** números complejos de 64 y 128 bits.\n",
    "* **bool:** Booleanos, representados por verdadera y falso (True y False).\n",
    "* **object:** Tipo de datos genéricos que permite almacenar cualquier objeto de Python.\n",
    "* **string_:** Tipo de datos para cadenas de longitud fija.\n",
    "* **unicode_:** Tipo de datos para cadena Unicode de longitud fija.\n",
    "\n",
    "A continuación, se muestra la creación de solo algunos arrays definiendo el tipo de dato."
   ]
  },
  {
   "cell_type": "code",
   "execution_count": 2,
   "id": "3f1f7c4f-f1c9-45ac-9ff5-37731607ffda",
   "metadata": {},
   "outputs": [
    {
     "name": "stdout",
     "output_type": "stream",
     "text": [
      "Array de 1-D tipo float: [1. 2. 3. 4. 5.] \n",
      "Tipo de dato: float32\n"
     ]
    }
   ],
   "source": [
    "array_float32 = np.array([1, 2, 3, 4, 5], dtype='float32')\n",
    "print('Array de 1-D tipo float:', array_float32,'\\nTipo de dato:', array_float32.dtype) "
   ]
  },
  {
   "cell_type": "code",
   "execution_count": 3,
   "id": "00e8541f-f83b-47ad-9aaa-c276c8b7731b",
   "metadata": {},
   "outputs": [
    {
     "name": "stdout",
     "output_type": "stream",
     "text": [
      "Array de 1-D números complejos: [1.+0.j 2.+0.j 3.+0.j 4.+0.j 5.+0.j] \n",
      "Tipo de dato: complex64\n"
     ]
    }
   ],
   "source": [
    "array_complex = np.array([1, 2, 3, 4, 5], dtype='complex64')\n",
    "print('Array de 1-D números complejos:', array_complex,'\\nTipo de dato:', array_complex.dtype)"
   ]
  },
  {
   "cell_type": "markdown",
   "id": "33025bb8-0acd-4fe4-b71d-f75986283660",
   "metadata": {},
   "source": [
    "### Array de dos dimensiones"
   ]
  },
  {
   "cell_type": "markdown",
   "id": "d48ddf35-7295-44aa-ba04-8cbe233127fa",
   "metadata": {},
   "source": [
    "Para crear un array de dos dimensiones se pasa como argumento a la función **array()** secuencias (listas o tuplas) de secuencias (listas o tuplas), y si se quiere un array de 3 dimensiones se pasan secuencias de secuencias, y así sucesivamente."
   ]
  },
  {
   "cell_type": "code",
   "execution_count": 131,
   "id": "34cd9ce6-2481-4046-8bda-22bc33d7a4b0",
   "metadata": {},
   "outputs": [
    {
     "name": "stdout",
     "output_type": "stream",
     "text": [
      "Array de dos dimensiones:\n",
      " [[1 2 3]\n",
      " [4 5 6]]\n"
     ]
    }
   ],
   "source": [
    "array_2d_lista = np.array([[1, 2, 3], [4, 5, 6]])\n",
    "print(\"Array de dos dimensiones:\\n\", array_2d_lista)"
   ]
  },
  {
   "cell_type": "code",
   "execution_count": 132,
   "id": "d55c5ae0-1307-453a-abae-a9300b7c6564",
   "metadata": {},
   "outputs": [
    {
     "name": "stdout",
     "output_type": "stream",
     "text": [
      "Array de dos dimensiones:\n",
      " [[ 7  8  9]\n",
      " [10 11 12]]\n"
     ]
    }
   ],
   "source": [
    "array_2d_tupla = np.array(((7, 8, 9), (10, 11, 12)))\n",
    "print(\"Array de dos dimensiones:\\n\", array_2d_tupla)"
   ]
  },
  {
   "cell_type": "markdown",
   "id": "1ba77f3f-09e0-454d-b563-49c0dfab6e81",
   "metadata": {},
   "source": [
    "Una forma de entender un array o matriz de dos dimensiones es verlo como una tabla de dos ejes, es decir, **axis=0 para filas y axis=1 para columnas**, en los dos casos anteriores, se crearon dos arrays con 2 filas y 3 columnas. Resulta importante mencionar que se puede acceder a los elementos del array por medio de sus índices, asimismo, cabe recordar que los índices en Python se inician en cero, conviene tener esto en consideración para más adelante cuando se vea el tema de **slicing** o segmentación."
   ]
  },
  {
   "cell_type": "markdown",
   "id": "b5cae745-7d2b-4c42-956b-3667a87f66fc",
   "metadata": {},
   "source": [
    "### Atributos"
   ]
  },
  {
   "cell_type": "markdown",
   "id": "f2de07ff-ca14-4f8e-994f-b007651c4f3c",
   "metadata": {},
   "source": [
    "En esta sección se cubren algunos de los atributos del array, uno que ya se mencionó fue **dtype**, este proporciona la información del tipo de dato. Otros importantes a tener en cuenta son:\n",
    "\n",
    "* **ndim**: número de dimensiones de un array.\n",
    "* **shape**: devuelve una tupla de enteros especificando el número de elementos a lo largo de cada dimensión del array.\n",
    "* **size**: número fijo de elementos que están contenidos dentro del array."
   ]
  },
  {
   "cell_type": "code",
   "execution_count": 5,
   "id": "e6d7bc47-1cce-4620-87a4-9e3fcb6a5886",
   "metadata": {},
   "outputs": [
    {
     "name": "stdout",
     "output_type": "stream",
     "text": [
      "[[1 2 3]\n",
      " [4 5 6]\n",
      " [7 8 9]]\n"
     ]
    }
   ],
   "source": [
    "a = np.array([[1, 2, 3], [4, 5, 6], [7, 8, 9]], dtype='int64')\n",
    "print(a)"
   ]
  },
  {
   "cell_type": "code",
   "execution_count": 6,
   "id": "35e35a57-9b0c-4183-9f8d-802c9acda3a8",
   "metadata": {},
   "outputs": [
    {
     "data": {
      "text/plain": [
       "dtype('int64')"
      ]
     },
     "execution_count": 6,
     "metadata": {},
     "output_type": "execute_result"
    }
   ],
   "source": [
    "a.dtype"
   ]
  },
  {
   "cell_type": "code",
   "execution_count": 7,
   "id": "7f410d79-48fa-4098-8d3b-5a6244999099",
   "metadata": {},
   "outputs": [
    {
     "data": {
      "text/plain": [
       "2"
      ]
     },
     "execution_count": 7,
     "metadata": {},
     "output_type": "execute_result"
    }
   ],
   "source": [
    "a.ndim"
   ]
  },
  {
   "cell_type": "code",
   "execution_count": 8,
   "id": "82a865ef-de7a-46f1-bac4-d9c954133bc7",
   "metadata": {},
   "outputs": [
    {
     "data": {
      "text/plain": [
       "(3, 3)"
      ]
     },
     "execution_count": 8,
     "metadata": {},
     "output_type": "execute_result"
    }
   ],
   "source": [
    "a.shape"
   ]
  },
  {
   "cell_type": "code",
   "execution_count": 9,
   "id": "a2bfbcad-e510-4cf1-96c5-ac238acb376d",
   "metadata": {},
   "outputs": [
    {
     "data": {
      "text/plain": [
       "9"
      ]
     },
     "execution_count": 9,
     "metadata": {},
     "output_type": "execute_result"
    }
   ],
   "source": [
    "a.size"
   ]
  },
  {
   "cell_type": "markdown",
   "id": "283c8868-440d-4b42-8528-d61521775285",
   "metadata": {},
   "source": [
    "#### Array de tres dimensiones"
   ]
  },
  {
   "cell_type": "markdown",
   "id": "3e643795-96c5-4bd5-8ecc-960651f738dd",
   "metadata": {},
   "source": [
    "Después de conocer algunos atributos, es importante hacer un paréntesis para mostrar el ejemplo de un array de 3 dimensiones, asimismo, hacer uso de sus atributos. "
   ]
  },
  {
   "cell_type": "code",
   "execution_count": 137,
   "id": "d2c80a88-e201-4466-b572-fc927a86d2a7",
   "metadata": {},
   "outputs": [
    {
     "name": "stdout",
     "output_type": "stream",
     "text": [
      "[[[1 2]\n",
      "  [3 4]]\n",
      "\n",
      " [[5 6]\n",
      "  [7 8]]]\n"
     ]
    }
   ],
   "source": [
    "array_3d = np.array([ [[1, 2],[3, 4]], [[5, 6],[7, 8]] ])\n",
    "print(array_3d)"
   ]
  },
  {
   "cell_type": "code",
   "execution_count": 138,
   "id": "1c0af0dc-1c07-4dd7-8bca-bdcb5902414d",
   "metadata": {},
   "outputs": [
    {
     "data": {
      "text/plain": [
       "3"
      ]
     },
     "execution_count": 138,
     "metadata": {},
     "output_type": "execute_result"
    }
   ],
   "source": [
    "array_3d.ndim"
   ]
  },
  {
   "cell_type": "code",
   "execution_count": 139,
   "id": "00c5baef-5723-4c2a-87ce-02450017f64a",
   "metadata": {},
   "outputs": [
    {
     "data": {
      "text/plain": [
       "(2, 2, 2)"
      ]
     },
     "execution_count": 139,
     "metadata": {},
     "output_type": "execute_result"
    }
   ],
   "source": [
    "array_3d.shape"
   ]
  },
  {
   "cell_type": "code",
   "execution_count": 140,
   "id": "8d47e1ff-5d5f-4d60-8bf5-14bfc66f8bf0",
   "metadata": {},
   "outputs": [
    {
     "data": {
      "text/plain": [
       "8"
      ]
     },
     "execution_count": 140,
     "metadata": {},
     "output_type": "execute_result"
    }
   ],
   "source": [
    "array_3d.size"
   ]
  },
  {
   "cell_type": "markdown",
   "id": "b709003d-2b5a-4339-9d19-5ba8b9952412",
   "metadata": {},
   "source": [
    "### Crear array básico"
   ]
  },
  {
   "cell_type": "markdown",
   "id": "d6d1bf30-c136-4866-8598-284046e88a3f",
   "metadata": {},
   "source": [
    "NumPy ofrece algunos métodos o funciones para crear arrays básicos, como son: secuencias de ceros, de unos, valores espaciados en un intervalo específico, entre otros más, algunos ejemplos son los siguientes:\n",
    "\n",
    "* **zeros()**: crea un array con una secuencia de ceros, se pasa como parámetro la forma o shape.\n",
    "* **ones()**: crea un array con una secuencia de unos, se pasa como parámetro la forma o shape.\n",
    "* **empty()**: crea un array cuyo contenido inicial es aleatorio y depende del estado de la memoria, puede que retorne ceros o no.\n",
    "* **arange()**: crea un array con un rango de elementos, con un solo parámetro asigna el número de elementos, con dos parámetros se señalan el inicio y fin del rango, un tercer parámetro indica los saltos o pasos entre elementos.\n",
    "* **linspace()**: crea un array con valores espaciados linealmente asignando un intervalo específico.\n",
    "* **eye()**: crea un array cuadrado (mismas filas y columnas) donde los elementos de la diagonal principal son unos y el resto son ceros.  "
   ]
  },
  {
   "cell_type": "code",
   "execution_count": 14,
   "id": "4ddda505-fd0b-4346-b273-aeba10e804d9",
   "metadata": {},
   "outputs": [
    {
     "name": "stdout",
     "output_type": "stream",
     "text": [
      "[[0. 0. 0. 0.]\n",
      " [0. 0. 0. 0.]\n",
      " [0. 0. 0. 0.]]\n"
     ]
    }
   ],
   "source": [
    "array_ceros = np.zeros((3, 4))\n",
    "print(array_ceros)"
   ]
  },
  {
   "cell_type": "code",
   "execution_count": 15,
   "id": "802ebc29-435c-4e98-9e22-52aea81649f4",
   "metadata": {},
   "outputs": [
    {
     "name": "stdout",
     "output_type": "stream",
     "text": [
      "[[1. 1. 1.]\n",
      " [1. 1. 1.]\n",
      " [1. 1. 1.]\n",
      " [1. 1. 1.]]\n"
     ]
    }
   ],
   "source": [
    "array_unos = np.ones((4, 3))\n",
    "print(array_unos)"
   ]
  },
  {
   "cell_type": "code",
   "execution_count": 16,
   "id": "7b60e70f-1877-4c12-aba8-8b251b41868e",
   "metadata": {},
   "outputs": [
    {
     "name": "stdout",
     "output_type": "stream",
     "text": [
      "[[ 4.94065646e-324 -1.92216604e-311]\n",
      " [ 2.12199579e-314  4.94065646e-324]\n",
      " [ 2.33419537e-312  0.00000000e+000]]\n"
     ]
    }
   ],
   "source": [
    "array_empty = np.empty((3, 2))\n",
    "print(array_empty)"
   ]
  },
  {
   "cell_type": "code",
   "execution_count": 17,
   "id": "31d2f72a-ecd9-4b84-afbc-10c3ec6bba24",
   "metadata": {},
   "outputs": [
    {
     "name": "stdout",
     "output_type": "stream",
     "text": [
      "[0 1 2 3 4]\n"
     ]
    }
   ],
   "source": [
    "array_arange1 = np.arange(5) # total de elementos\n",
    "print(array_arange1)"
   ]
  },
  {
   "cell_type": "code",
   "execution_count": 18,
   "id": "01d201ee-bc53-481c-af4b-d9baff076c9d",
   "metadata": {},
   "outputs": [
    {
     "name": "stdout",
     "output_type": "stream",
     "text": [
      "[1 2 3 4 5 6 7 8 9]\n"
     ]
    }
   ],
   "source": [
    "array_arange2 = np.arange(1, 10) # se excluye el último número\n",
    "print(array_arange2)"
   ]
  },
  {
   "cell_type": "code",
   "execution_count": 19,
   "id": "479d6dc4-5ef5-45f8-905f-765d703332cc",
   "metadata": {},
   "outputs": [
    {
     "name": "stdout",
     "output_type": "stream",
     "text": [
      "[ 1  3  5  7  9 11 13 15 17 19]\n"
     ]
    }
   ],
   "source": [
    "array_arange3 = np.arange(1, 20, 2) # paso de 2\n",
    "print(array_arange3)"
   ]
  },
  {
   "cell_type": "code",
   "execution_count": 20,
   "id": "c5cc442b-2512-4273-8803-db9b4d40a822",
   "metadata": {},
   "outputs": [
    {
     "name": "stdout",
     "output_type": "stream",
     "text": [
      "[ 0.   2.5  5.   7.5 10. ]\n"
     ]
    }
   ],
   "source": [
    "array_linspace = np.linspace(0, 10, num=5) # cinco intervalos\n",
    "print(array_linspace)"
   ]
  },
  {
   "cell_type": "code",
   "execution_count": 21,
   "id": "1d3b6409-ff08-4c5e-8bc3-4c46fd60c020",
   "metadata": {},
   "outputs": [
    {
     "name": "stdout",
     "output_type": "stream",
     "text": [
      "[[1. 0. 0. 0. 0.]\n",
      " [0. 1. 0. 0. 0.]\n",
      " [0. 0. 1. 0. 0.]\n",
      " [0. 0. 0. 1. 0.]\n",
      " [0. 0. 0. 0. 1.]]\n"
     ]
    }
   ],
   "source": [
    "array_eye = np.eye(5) # shape o cuerpo de (5, 5)\n",
    "print(array_eye)"
   ]
  },
  {
   "cell_type": "markdown",
   "id": "97224eb2-9035-4b48-85f4-fc1e726e1c7c",
   "metadata": {},
   "source": [
    "### Crear array a partir de una entrada"
   ]
  },
  {
   "cell_type": "markdown",
   "id": "f769f62b-3778-43fc-b8c4-7cb01e591f90",
   "metadata": {},
   "source": [
    "Otra forma de crear un array es hacer uso de la función **asarray()**, esta recibe un **input o entrada** como parámetro, lo más usual es que sean objetos de tipo lista o tupla, o bien, una lista de listas o tupla de tuplas, asimismo, se puede definir el tipo de dato con el parámetro **dtype=' '**."
   ]
  },
  {
   "cell_type": "code",
   "execution_count": 22,
   "id": "15374bcb-30f2-420a-840a-614a2281b696",
   "metadata": {},
   "outputs": [
    {
     "name": "stdout",
     "output_type": "stream",
     "text": [
      "Array con entrada de una lista:\n",
      " [1 2 3 4 5]\n"
     ]
    }
   ],
   "source": [
    "lista_1 = [1, 2, 3, 4, 5]\n",
    "lista_1_array = np.asarray(lista_1, dtype='int16')\n",
    "print('Array con entrada de una lista:\\n', lista_1_array)"
   ]
  },
  {
   "cell_type": "code",
   "execution_count": 23,
   "id": "aa72d7d1-b528-4404-8cf2-4d6c35196af6",
   "metadata": {},
   "outputs": [
    {
     "name": "stdout",
     "output_type": "stream",
     "text": [
      "Array con entrada de una lista de listas:\n",
      " [[1 2 3]\n",
      " [4 5 6]]\n"
     ]
    }
   ],
   "source": [
    "lista_2 = [[1, 2, 3], [4, 5, 6]]\n",
    "lista_2_array = np.asarray(lista_2, dtype='int16')\n",
    "print('Array con entrada de una lista de listas:\\n', lista_2_array)"
   ]
  },
  {
   "cell_type": "code",
   "execution_count": 24,
   "id": "aa6f2b03-40f2-4087-ae40-aa8612353457",
   "metadata": {},
   "outputs": [
    {
     "name": "stdout",
     "output_type": "stream",
     "text": [
      "Array con entrada de una tupla:\n",
      " [1 2 3 4 5]\n"
     ]
    }
   ],
   "source": [
    "tupla_1 = (1, 2, 3, 4, 5)\n",
    "tupla_1_array = np.asarray(tupla_1, dtype='int16')\n",
    "print('Array con entrada de una tupla:\\n', tupla_1_array)"
   ]
  },
  {
   "cell_type": "code",
   "execution_count": 25,
   "id": "6836c5e9-018a-415a-ae8d-91fc74008114",
   "metadata": {},
   "outputs": [
    {
     "name": "stdout",
     "output_type": "stream",
     "text": [
      "Array con entrada de una tupla de tuplas:\n",
      " [[1 2 3]\n",
      " [4 5 6]]\n"
     ]
    }
   ],
   "source": [
    "tupla_2 = ((1, 2, 3), (4, 5, 6))\n",
    "tupla_2_array = np.asarray(tupla_2, dtype='int16')\n",
    "print('Array con entrada de una tupla de tuplas:\\n', tupla_2_array)"
   ]
  },
  {
   "cell_type": "markdown",
   "id": "50566ea5-c7c4-4a79-9f43-1c21d30bc207",
   "metadata": {},
   "source": [
    "## Indexación y segmentación"
   ]
  },
  {
   "cell_type": "markdown",
   "id": "ff47d3d0-7cbe-4ab9-9e38-8c2d56b53a4d",
   "metadata": {},
   "source": [
    "Para accesar al contenido de un objeto array de **'n' dimensiones (n-D)** se tiene el mecanismo de indexación y segmentación o corte (**slicing**). La segmentación permite extraer un subconjunto de elementos de un array de forma eficiente. Este método es similar al trabajo con listas o tuplas, esto quiere decir, que cada elemento posee un número de índice, es importante recordar que los índices inician en cero, asimismo, se puede pasar un valor negativo como -1, esto significa que estamos accediendo al último elemento del array. \n",
    "\n",
    "El mecanismo consiste en colocar un par de corchetes después del objeto, lo siguiente es agregar o no un valor con el número inicial del índice que se quiere segmentar, enseguida colocar dos puntos para indicar el número final del índice, es importante señalar que este valor es excluyente, es decir, no se obtiene el elemento que posee este número de índice. Los primeros ejemplos de este mecanismo de segmentación se harán sobre un array de una dimensión (**1-D**) para una mejor comprensión. "
   ]
  },
  {
   "cell_type": "code",
   "execution_count": 26,
   "id": "1e868ec8-b888-4df2-8a1b-af269faea306",
   "metadata": {},
   "outputs": [
    {
     "name": "stdout",
     "output_type": "stream",
     "text": [
      "[ 1  3  5  7  9 11 13]\n"
     ]
    }
   ],
   "source": [
    "array_1d_slicing = np.arange(1, 15, 2)\n",
    "print(array_1d_slicing)"
   ]
  },
  {
   "cell_type": "code",
   "execution_count": 143,
   "id": "d5d155d1-04e5-49d6-999b-eda3c3f73d35",
   "metadata": {},
   "outputs": [
    {
     "name": "stdout",
     "output_type": "stream",
     "text": [
      "[ 1  3  5  7  9 11 13]\n",
      "Obtener el total de los elementos del array:\n",
      " [ 1  3  5  7  9 11 13]\n"
     ]
    }
   ],
   "source": [
    "print(array_1d_slicing)\n",
    "print('Obtener el total de los elementos del array:\\n', array_1d_slicing[:])# el dejar en blanco significa que se desea cortar desde el primero hasta el último elemento"
   ]
  },
  {
   "cell_type": "code",
   "execution_count": 144,
   "id": "1cc7bcef-a22e-43ed-a871-c0e17ab100f2",
   "metadata": {},
   "outputs": [
    {
     "name": "stdout",
     "output_type": "stream",
     "text": [
      "[ 1  3  5  7  9 11 13]\n",
      "Retornar desde el elemnto con índice 0 hasta el elemento con índice 1:\n",
      " [1 3]\n"
     ]
    }
   ],
   "source": [
    "print(array_1d_slicing)\n",
    "print('Retornar desde el elemnto con índice 0 hasta el elemento con índice 1:\\n', array_1d_slicing[0:2])"
   ]
  },
  {
   "cell_type": "code",
   "execution_count": 145,
   "id": "0c2708c6-dbd0-4e2d-859f-ec567dd6d62f",
   "metadata": {},
   "outputs": [
    {
     "name": "stdout",
     "output_type": "stream",
     "text": [
      "[ 1  3  5  7  9 11 13]\n",
      "Obtener los primeros tres elementos, iniciando con el elemento con índice 0 hasta el elemento con índice 2:\n",
      " [1 3 5]\n"
     ]
    }
   ],
   "source": [
    "print(array_1d_slicing)\n",
    "print(\"Obtener los primeros tres elementos, iniciando con el elemento con índice 0 hasta el elemento con índice 2:\\n\", array_1d_slicing[:3])"
   ]
  },
  {
   "cell_type": "code",
   "execution_count": 146,
   "id": "9a60d7b7-0e03-4d18-afd9-d9cb5b8dbf9a",
   "metadata": {},
   "outputs": [
    {
     "name": "stdout",
     "output_type": "stream",
     "text": [
      "[ 1  3  5  7  9 11 13]\n",
      "Retornar los últimos elementos del array a partir del elemento con índice 3 hasta el último:\n",
      " [ 7  9 11 13]\n"
     ]
    }
   ],
   "source": [
    "print(array_1d_slicing)\n",
    "print(\"Retornar los últimos elementos del array a partir del elemento con índice 3 hasta el último:\\n\", array_1d_slicing[3:])"
   ]
  },
  {
   "cell_type": "code",
   "execution_count": 147,
   "id": "e966a929-6a89-48db-a3ff-0332e662f214",
   "metadata": {},
   "outputs": [
    {
     "name": "stdout",
     "output_type": "stream",
     "text": [
      "[ 1  3  5  7  9 11 13]\n",
      "Segmentar desde el tercer elemento final del array hasta el segundo antes del final:\n",
      " [ 9 11]\n",
      "\n",
      "Cabe recordar que el segundo parámetro es excluyente.\n"
     ]
    }
   ],
   "source": [
    "print(array_1d_slicing)\n",
    "print(\"Segmentar desde el tercer elemento final del array hasta el segundo antes del final:\\n\", array_1d_slicing[-3:-1])\n",
    "print('\\nCabe recordar que el segundo parámetro es excluyente.')"
   ]
  },
  {
   "cell_type": "markdown",
   "id": "7acd41b7-bd34-49ef-b8c9-7ee01254d685",
   "metadata": {},
   "source": [
    "Para segmentar un  array de dos dimensiones es muy similar a lo anterior, solo imagine que se tiene que señalar los índices para ambos ejes, es decir, para filas y columnas, esto se logra mediante una coma. Para una mejor comprensión se realizan los siguientes ejemplos a partir de un array de 15 elementos creado con la función **arange()**, posteriormente, con la función **reshape** se define la forma del array, en este caso, 3 filas y 5 columnas."
   ]
  },
  {
   "cell_type": "code",
   "execution_count": 148,
   "id": "263ed045-184f-4868-86da-cc9bbdac2231",
   "metadata": {},
   "outputs": [
    {
     "name": "stdout",
     "output_type": "stream",
     "text": [
      "[[ 0  1  2  3  4]\n",
      " [ 5  6  7  8  9]\n",
      " [10 11 12 13 14]]\n"
     ]
    }
   ],
   "source": [
    "array_2d_slicing = np.arange(15)\n",
    "array_2d_slicing = array_2d_slicing.reshape(3, 5)\n",
    "print(array_2d_slicing)"
   ]
  },
  {
   "cell_type": "code",
   "execution_count": 34,
   "id": "a6ad2250-6f3f-4c74-84f3-d619e2ac0ccd",
   "metadata": {},
   "outputs": [
    {
     "name": "stdout",
     "output_type": "stream",
     "text": [
      "Obtener solo la primera fila, es decir, la que posee el índice 0:\n",
      " [0 1 2 3 4]\n"
     ]
    }
   ],
   "source": [
    "print(\"Obtener solo la primera fila, es decir, la que posee el índice 0:\\n\", array_2d_slicing[0])"
   ]
  },
  {
   "cell_type": "code",
   "execution_count": 35,
   "id": "506f488e-375d-4560-a557-bd120ff44961",
   "metadata": {},
   "outputs": [
    {
     "name": "stdout",
     "output_type": "stream",
     "text": [
      "Retornar las primeras 2 filas del array, aquellas con índice 0 y 1:\n",
      " [[0 1 2 3 4]\n",
      " [5 6 7 8 9]]\n"
     ]
    }
   ],
   "source": [
    "print(\"Retornar las primeras 2 filas del array, aquellas con índice 0 y 1:\\n\", array_2d_slicing[:2])"
   ]
  },
  {
   "cell_type": "code",
   "execution_count": 149,
   "id": "32b46be1-77dc-4848-a715-977ab8b9e5cd",
   "metadata": {},
   "outputs": [
    {
     "name": "stdout",
     "output_type": "stream",
     "text": [
      "Segmentar un subconjunto de dos dimensiones, a partir de las dos primeras filas y las dos primeras columnas:\n",
      " [[0 1]\n",
      " [5 6]]\n"
     ]
    }
   ],
   "source": [
    "print(\"Segmentar un subconjunto de dos dimensiones, a partir de las dos primeras filas y las dos primeras columnas:\\n\", array_2d_slicing[0:2, 0:2])"
   ]
  },
  {
   "cell_type": "code",
   "execution_count": 151,
   "id": "85ccd08b-5ec0-4998-9d64-534ed162c2a8",
   "metadata": {},
   "outputs": [
    {
     "name": "stdout",
     "output_type": "stream",
     "text": [
      "Segmentar un array a partir de la fila con índice 2 hasta la última, para el segundo eje, iniciando con la columna con índice 3 hasta la última:\n",
      " [[13 14]]\n"
     ]
    }
   ],
   "source": [
    "print('Segmentar un array a partir de la fila con índice 2 hasta la última, para el segundo eje, iniciando con la columna con índice 3 hasta la última:\\n', array_2d_slicing[2: , 3:])"
   ]
  },
  {
   "cell_type": "markdown",
   "id": "d85738a6-2459-41d0-acb3-367847b288f8",
   "metadata": {},
   "source": [
    "## Manipular la forma"
   ]
  },
  {
   "cell_type": "markdown",
   "id": "3ae887ee-fc9c-473f-977e-9243f9d5d726",
   "metadata": {},
   "source": [
    "En en análisis de datos es común tener que lidiar con el cambio de tamaño y forma de los arrays, para esta tarea NumPy posee diversas funciones, a continuación se describen algunas de las más comunes: \n",
    "\n",
    "* **reshape()**: retorna un nuevo array con la nueva de forma pasada como parámetro sin modificar los datos.\n",
    "* **flat()**: \"aplana\" el array a una dimensión (1-D) y retorna el elemento con el valor del índice solicitado.\n",
    "* **flatten()**: retorna una copia del array de entrada en forma \"plana\" (1-D).\n",
    "* **ravel()**: retorna el array de entrada en forma \"plana\" (1-D).\n",
    "* **transpose()**: transpone los ejes del array de 2 dimensiones (2-D).\n",
    "* **resize()**: retorna un nuevo array con las especificaciones de forma pasadas como parámetro modificando los datos con base en el array de entrada.\n",
    "* **flip()**: retorna el array con los elementos invertidos en su orden de acuerdo con un eje pasado como parámetro, la forma del array se conserva."
   ]
  },
  {
   "cell_type": "code",
   "execution_count": 152,
   "id": "1cd198b0-4449-4b10-863a-2a66e8de9f5f",
   "metadata": {},
   "outputs": [
    {
     "name": "stdout",
     "output_type": "stream",
     "text": [
      "Array con la nueva forma:\n",
      " [[ 1  2  3  4]\n",
      " [ 5  6  7  8]\n",
      " [ 9 10 11 12]]\n"
     ]
    }
   ],
   "source": [
    "arr = np.arange(1, 13)\n",
    "# reshape \n",
    "arr_2d_reshape = arr.reshape((3, 4))\n",
    "print(\"Array con la nueva forma:\\n\", arr_2d_reshape)"
   ]
  },
  {
   "cell_type": "code",
   "execution_count": 153,
   "id": "eb454e85-312d-4e3f-93a9-0e986b0b3787",
   "metadata": {},
   "outputs": [
    {
     "name": "stdout",
     "output_type": "stream",
     "text": [
      "[[ 1  2  3  4]\n",
      " [ 5  6  7  8]\n",
      " [ 9 10 11 12]]\n",
      "Elemento retornado por su índice después de redimensionar el array a 1-D:\n",
      " 10\n"
     ]
    }
   ],
   "source": [
    "print(arr_2d_reshape)\n",
    "# flat \n",
    "arr_2d_flat = arr_2d_reshape.flat[9]\n",
    "print(\"Elemento retornado por su índice después de redimensionar el array a 1-D:\\n\", arr_2d_flat)"
   ]
  },
  {
   "cell_type": "code",
   "execution_count": 154,
   "id": "2b59a751-810d-470e-a12c-a9cdcfaee422",
   "metadata": {},
   "outputs": [
    {
     "name": "stdout",
     "output_type": "stream",
     "text": [
      "[[ 1  2  3  4]\n",
      " [ 5  6  7  8]\n",
      " [ 9 10 11 12]]\n",
      "Array redimensionado a una dimensión:\n",
      " [ 1  2  3  4  5  6  7  8  9 10 11 12]\n"
     ]
    }
   ],
   "source": [
    "print(arr_2d_reshape)\n",
    "# flatten \n",
    "arr_2d_flatten = arr_2d_reshape.flatten()\n",
    "print(\"Array redimensionado a una dimensión:\\n\", arr_2d_flatten)"
   ]
  },
  {
   "cell_type": "code",
   "execution_count": 155,
   "id": "ebf81714-5be0-4372-b613-39ab283ac885",
   "metadata": {},
   "outputs": [
    {
     "name": "stdout",
     "output_type": "stream",
     "text": [
      "[[ 1  2  3  4]\n",
      " [ 5  6  7  8]\n",
      " [ 9 10 11 12]]\n",
      "Array redimensionado a una dimensión:\n",
      " [ 1  2  3  4  5  6  7  8  9 10 11 12]\n"
     ]
    }
   ],
   "source": [
    "print(arr_2d_reshape)\n",
    "# ravel\n",
    "arr_2d_ravel = arr_2d_reshape.ravel()\n",
    "print(\"Array redimensionado a una dimensión:\\n\", arr_2d_ravel)"
   ]
  },
  {
   "cell_type": "code",
   "execution_count": 157,
   "id": "28400df1-3d5f-4bfd-a01b-5cd778b503c5",
   "metadata": {},
   "outputs": [
    {
     "name": "stdout",
     "output_type": "stream",
     "text": [
      "Array original:\n",
      " [[ 1  2  3  4]\n",
      " [ 5  6  7  8]\n",
      " [ 9 10 11 12]]\n",
      "Transporner los ejes:\n",
      " [[ 1  5  9]\n",
      " [ 2  6 10]\n",
      " [ 3  7 11]\n",
      " [ 4  8 12]]\n"
     ]
    }
   ],
   "source": [
    "# transpose\n",
    "print(\"Array original:\\n\", arr_2d_reshape)\n",
    "print(\"Transporner los ejes:\\n\", arr_2d_reshape.transpose())"
   ]
  },
  {
   "cell_type": "code",
   "execution_count": 159,
   "id": "7c428249-7ab5-4149-958e-7ab8bcbd87e7",
   "metadata": {},
   "outputs": [
    {
     "name": "stdout",
     "output_type": "stream",
     "text": [
      "[ 1  2  3  4  5  6  7  8  9 10 11 12]\n",
      "Array redimensionado:\n",
      " [[ 1  2  3  4  5]\n",
      " [ 6  7  8  9 10]\n",
      " [11 12  1  2  3]\n",
      " [ 4  5  6  7  8]]\n"
     ]
    }
   ],
   "source": [
    "print(arr) \n",
    "# resize\n",
    "arr_resize = np.resize(arr, (4, 5))\n",
    "print(\"Array redimensionado:\\n\", arr_resize)"
   ]
  },
  {
   "cell_type": "code",
   "execution_count": 160,
   "id": "66394a73-00e3-4d0c-8dad-662840edb2b0",
   "metadata": {},
   "outputs": [
    {
     "name": "stdout",
     "output_type": "stream",
     "text": [
      "[[ 1  2  3  4]\n",
      " [ 5  6  7  8]\n",
      " [ 9 10 11 12]]\n"
     ]
    },
    {
     "data": {
      "text/plain": [
       "array([[ 1,  2,  3,  4,  5],\n",
       "       [ 6,  7,  8,  9, 10],\n",
       "       [11, 12,  1,  2,  3],\n",
       "       [ 4,  5,  6,  7,  8]])"
      ]
     },
     "execution_count": 160,
     "metadata": {},
     "output_type": "execute_result"
    }
   ],
   "source": [
    "print(arr_2d_reshape)\n",
    "# resize \n",
    "np.resize(arr_2d_reshape, (4, 5))"
   ]
  },
  {
   "cell_type": "code",
   "execution_count": 46,
   "id": "c51e2380-75a6-4c58-be33-0c8e38d431d6",
   "metadata": {},
   "outputs": [
    {
     "name": "stdout",
     "output_type": "stream",
     "text": [
      "Array 1-D en reversa:\n",
      " [12 11 10  9  8  7  6  5  4  3  2  1]\n"
     ]
    }
   ],
   "source": [
    "# flip \n",
    "arr_filp = np.flip(arr)\n",
    "print(\"Array 1-D en reversa:\\n\", arr_filp)"
   ]
  },
  {
   "cell_type": "code",
   "execution_count": 47,
   "id": "c2483140-2726-4a8e-b34b-4e5db2c8a88c",
   "metadata": {},
   "outputs": [
    {
     "name": "stdout",
     "output_type": "stream",
     "text": [
      "Array 2-D en reversa:\n",
      " [[12 11 10  9]\n",
      " [ 8  7  6  5]\n",
      " [ 4  3  2  1]]\n"
     ]
    }
   ],
   "source": [
    "arr_2d_reshape_flip = np.flip(arr_2d_reshape)\n",
    "print(\"Array 2-D en reversa:\\n\", arr_2d_reshape_flip)"
   ]
  },
  {
   "cell_type": "code",
   "execution_count": 48,
   "id": "3bd177d3-945c-4b87-b7a7-615cea022a0c",
   "metadata": {},
   "outputs": [
    {
     "name": "stdout",
     "output_type": "stream",
     "text": [
      "Array 2-D en reversa en filas:\n",
      " [[ 9 10 11 12]\n",
      " [ 5  6  7  8]\n",
      " [ 1  2  3  4]]\n"
     ]
    }
   ],
   "source": [
    "arr_2d_reshape_flip_ax0 = np.flip(arr_2d_reshape, axis=0)\n",
    "print(\"Array 2-D en reversa en filas:\\n\", arr_2d_reshape_flip_ax0)"
   ]
  },
  {
   "cell_type": "code",
   "execution_count": 49,
   "id": "979152e1-21df-4337-bdc2-ff10f90f688d",
   "metadata": {},
   "outputs": [
    {
     "name": "stdout",
     "output_type": "stream",
     "text": [
      "Array 2-D en reversa en columnas:\n",
      " [[ 4  3  2  1]\n",
      " [ 8  7  6  5]\n",
      " [12 11 10  9]]\n"
     ]
    }
   ],
   "source": [
    "arr_2d_reshape_flip_ax1 = np.flip(arr_2d_reshape, axis=1)\n",
    "print(\"Array 2-D en reversa en columnas:\\n\", arr_2d_reshape_flip_ax1)"
   ]
  },
  {
   "cell_type": "markdown",
   "id": "69409162-5380-4938-95d7-d199f8448e8d",
   "metadata": {},
   "source": [
    "## Insertar, eliminar y ordenar elementos"
   ]
  },
  {
   "cell_type": "markdown",
   "id": "62da3521-077f-4869-8ac2-be9a544c9005",
   "metadata": {},
   "source": [
    "Durante el trabajo diario será usual que se necesite insertar, eliminar u ordenar los elementos en un array, para la primer tarea, NumPy ofrece las funciones de **append()**, **concatenate()** e **insert()** y para eliminar se tiene la función **delete()**, para la tercer tarea se tienen varias funciones con diferentes objetivos, pero en esta sección, solo se hará uso de la función **sort()**, si se desea conocer más sobre las otras funciones puede visitar la [documentación oficial](https://numpy.org/doc/stable/reference/routines.sort.html#). "
   ]
  },
  {
   "cell_type": "code",
   "execution_count": 50,
   "id": "0d625ea4-d637-4377-bcb7-310a0fb2d8d4",
   "metadata": {},
   "outputs": [
    {
     "name": "stdout",
     "output_type": "stream",
     "text": [
      "[0 1 2 3 4 5 6 7 8 9]\n"
     ]
    }
   ],
   "source": [
    "arr_1d = np.arange(10)\n",
    "print(arr_1d)"
   ]
  },
  {
   "cell_type": "markdown",
   "id": "30fc3954-e5e8-4ecd-9b29-fb562d57a18e",
   "metadata": {},
   "source": [
    "La función **append** retorna un nuevo array con los elementos del array a insertar agregados al final. Es importante señalar que la dimensión del array que se desea insertar sea la misma que el primero, de lo contrario mostrará un error. Asimismo, se puede se puede realizar la inserción por eje, pasando como parámetro **axis** igual a 0 o 1.  "
   ]
  },
  {
   "cell_type": "code",
   "execution_count": 51,
   "id": "2fa8dc74-5dc4-4b88-9401-5fb48f2fff15",
   "metadata": {},
   "outputs": [
    {
     "name": "stdout",
     "output_type": "stream",
     "text": [
      "[ 0  1  2  3  4  5  6  7  8  9 10 11 12]\n"
     ]
    }
   ],
   "source": [
    "arr_ins = np.array([10, 11, 12])\n",
    "arr_app_1d = np.append(arr_1d, arr_ins) \n",
    "print(arr_app_1d)"
   ]
  },
  {
   "cell_type": "code",
   "execution_count": 52,
   "id": "537523c4-4e6e-4dd9-9e84-168719f6cdc6",
   "metadata": {},
   "outputs": [
    {
     "name": "stdout",
     "output_type": "stream",
     "text": [
      "[[0 1 2 3 4]\n",
      " [5 6 7 8 9]]\n"
     ]
    }
   ],
   "source": [
    "# array de 2-D \n",
    "arr_app_2d = arr_1d.reshape(2, 5)\n",
    "print(arr_app_2d)"
   ]
  },
  {
   "cell_type": "code",
   "execution_count": 53,
   "id": "386a4ba8-8e0f-47a6-a45f-92149724cdb6",
   "metadata": {},
   "outputs": [
    {
     "name": "stdout",
     "output_type": "stream",
     "text": [
      "Array con inserción por filas:\n",
      " [[ 0  1  2  3  4]\n",
      " [ 5  6  7  8  9]\n",
      " [10 11 12 13 14]]\n"
     ]
    }
   ],
   "source": [
    "# append en array de 2-D por filas\n",
    "arr_app_2d_ax0 = np.append(arr_app_2d, [[10, 11, 12, 13, 14]], axis=0)\n",
    "print(\"Array con inserción por filas:\\n\", arr_app_2d_ax0)"
   ]
  },
  {
   "cell_type": "code",
   "execution_count": 54,
   "id": "9c07c3bb-dbdc-40d7-8276-6275a814dfc6",
   "metadata": {},
   "outputs": [
    {
     "name": "stdout",
     "output_type": "stream",
     "text": [
      "Array con inserción por columnas:\n",
      " [[ 0  1  2  3  4 98]\n",
      " [ 5  6  7  8  9 99]]\n"
     ]
    }
   ],
   "source": [
    "# append en array de 2-D por columnas\n",
    "arr_ins_ax1 = np.array([[98], [99]])\n",
    "arr_app_2d_ax1 = np.append(arr_app_2d, arr_ins_ax1, axis=1)\n",
    "print(\"Array con inserción por columnas:\\n\", arr_app_2d_ax1)"
   ]
  },
  {
   "cell_type": "markdown",
   "id": "31cf8027-a0d2-49bc-becc-43b00927d4e0",
   "metadata": {},
   "source": [
    "La función **concatenate** funciona similar a la función **append**, la diferencia es que los arrays a concatenar se pasan como parámetro en forma de tupla, asimismo, existe la posibilidad de señalar la inserción por fila o columna, de la misma manera hay que tener en cuenta que los objetos tengan la misma dimensión. "
   ]
  },
  {
   "cell_type": "code",
   "execution_count": 55,
   "id": "b01a02d1-d3d0-4ebf-8686-f7ee4be12554",
   "metadata": {},
   "outputs": [
    {
     "name": "stdout",
     "output_type": "stream",
     "text": [
      "Array de 1-D concatenado:\n",
      " [ 1  2  3  4  5  6  7  8  9 10]\n"
     ]
    }
   ],
   "source": [
    "a_concat = np.array([1, 2, 3, 4, 5])\n",
    "b_concat = np.array([6, 7, 8, 9, 10])\n",
    "print(\"Array de 1-D concatenado:\\n\", np.concatenate((a_concat, b_concat)))"
   ]
  },
  {
   "cell_type": "code",
   "execution_count": 56,
   "id": "a2e4802e-4cad-47b9-bada-855b61bde5be",
   "metadata": {},
   "outputs": [
    {
     "name": "stdout",
     "output_type": "stream",
     "text": [
      "Array 2-D con cuerpo de 3x2:\n",
      " [[0 1]\n",
      " [2 3]\n",
      " [4 5]]\n",
      "Array 2-D concatenado por filas:\n",
      " [[0 1]\n",
      " [2 3]\n",
      " [4 5]\n",
      " [6 7]]\n"
     ]
    }
   ],
   "source": [
    "a_concat_ax0 = np.array([[0, 1], [2, 3], [4, 5]])\n",
    "print(\"Array 2-D con cuerpo de 3x2:\\n\", a_concat_ax0)\n",
    "b_concat_ax0 = np.array([[6, 7]])\n",
    "print(\"Array 2-D concatenado por filas:\\n\", np.concatenate((a_concat_ax0, b_concat_ax0), axis=0))"
   ]
  },
  {
   "cell_type": "code",
   "execution_count": 57,
   "id": "1edc7ce0-1874-4edd-9d27-dd548c54c96e",
   "metadata": {},
   "outputs": [
    {
     "name": "stdout",
     "output_type": "stream",
     "text": [
      "Array 2-D con cuerpo de 3x2:\n",
      " [[0 1]\n",
      " [2 3]\n",
      " [4 5]]\n",
      "Array 2-D concatenado por columnas:\n",
      " [[ 0  1 97]\n",
      " [ 2  3 98]\n",
      " [ 4  5 99]]\n"
     ]
    }
   ],
   "source": [
    "a_concat_ax1 = np.array([[0, 1], [2, 3], [4, 5]])\n",
    "print(\"Array 2-D con cuerpo de 3x2:\\n\", a_concat_ax1)\n",
    "b_concat_ax1 = np.array([[97], [98], [99]])\n",
    "print(\"Array 2-D concatenado por columnas:\\n\", np.concatenate((a_concat_ax1, b_concat_ax1), axis=1))"
   ]
  },
  {
   "cell_type": "markdown",
   "id": "595408bd-acac-417c-af56-c6e32d25432d",
   "metadata": {},
   "source": [
    "La función **insert** al igual que las otras funciones, se emplea para la inserción de elementos dentro de un array existente, pero estos se inserten específicando un índice, asimismo, se puede pasar el eje como parámetro. "
   ]
  },
  {
   "cell_type": "code",
   "execution_count": 58,
   "id": "f173d9a4-dc41-4ca1-acf6-3da490229be4",
   "metadata": {},
   "outputs": [
    {
     "name": "stdout",
     "output_type": "stream",
     "text": [
      "Array 1-D original:\n",
      " [0 1 2 3 4 5 6 7 8 9]\n",
      "Inserción de un elemento con índice 0 y valor de 1000 en el array original:\n",
      " [1000    0    1    2    3    4    5    6    7    8    9]\n"
     ]
    }
   ],
   "source": [
    "arr_1d\n",
    "print(\"Array 1-D original:\\n\", arr_1d)\n",
    "arr_1d_insert = np.insert(arr_1d, 0, [1000])\n",
    "print(\"Inserción de un elemento con índice 0 y valor de 1000 en el array original:\\n\", arr_1d_insert)"
   ]
  },
  {
   "cell_type": "markdown",
   "id": "b32a4301-1752-481e-be61-d7fe2690fcd4",
   "metadata": {},
   "source": [
    "La operación anterior se puede aplicar a un array de dos dimensiones, NumPy \"aplana\" el array e inserta el elemento en el índice específicado."
   ]
  },
  {
   "cell_type": "code",
   "execution_count": 59,
   "id": "49fb0c6a-4442-4161-9a4e-da4228154d21",
   "metadata": {},
   "outputs": [
    {
     "name": "stdout",
     "output_type": "stream",
     "text": [
      "Array original 2-D:\n",
      " [[0 0]\n",
      " [1 1]\n",
      " [2 2]]\n",
      "Array 'aplanado' con el nuevo elemento en el índice señalado:\n",
      " [0 0 1 1 2 2 3]\n"
     ]
    }
   ],
   "source": [
    "a_2d = np.array([[0, 0], [1, 1], [2, 2]])\n",
    "print(\"Array original 2-D:\\n\", a_2d)\n",
    "print(\"Array 'aplanado' con el nuevo elemento en el índice señalado:\\n\", np.insert(a_2d, 6, 3)) # índice 6 elemento número 3"
   ]
  },
  {
   "cell_type": "markdown",
   "id": "a034f237-4742-48ae-92df-2fe510cc15a3",
   "metadata": {},
   "source": [
    "En el siguiente ejemplo se inserta el número 3 en la columna con índice 1, el valor se repilca en cada fila (**axis=0**). Se puede pasar un array con valores únicos para cada fila, es importante considerar que exista una correspondencia entre longitudes.  "
   ]
  },
  {
   "cell_type": "code",
   "execution_count": 60,
   "id": "3670df85-4b98-4804-be0a-8966be688b29",
   "metadata": {},
   "outputs": [
    {
     "name": "stdout",
     "output_type": "stream",
     "text": [
      "Array original 2-D:\n",
      " [[0 0]\n",
      " [1 1]\n",
      " [2 2]]\n",
      "Inserción en la columna con índice 1 del número 3 para cada fila:\n",
      " [[0 3 0]\n",
      " [1 3 1]\n",
      " [2 3 2]]\n"
     ]
    }
   ],
   "source": [
    "print(\"Array original 2-D:\\n\", a_2d)\n",
    "print(\"Inserción en la columna con índice 1 del número 3 para cada fila:\\n\", np.insert(a_2d, 1, 3, axis=1))"
   ]
  },
  {
   "cell_type": "code",
   "execution_count": 61,
   "id": "c10a1a64-9dfd-427c-8f30-8d974e472cfa",
   "metadata": {},
   "outputs": [
    {
     "name": "stdout",
     "output_type": "stream",
     "text": [
      "Array original 2-D:\n",
      " [[0 0]\n",
      " [1 1]\n",
      " [2 2]]\n",
      "Inserción en la columna con índice 1 de un array de 3 elementos distintos:\n",
      " [[   0   10    0]\n",
      " [   1  100    1]\n",
      " [   2 1000    2]]\n"
     ]
    }
   ],
   "source": [
    "print(\"Array original 2-D:\\n\", a_2d)\n",
    "print(\"Inserción en la columna con índice 1 de un array de 3 elementos distintos:\\n\", np.insert(a_2d, 1, [10, 100, 1000], axis=1))"
   ]
  },
  {
   "cell_type": "code",
   "execution_count": 62,
   "id": "db5f1763-7558-4ca1-b2c3-003116ca7769",
   "metadata": {},
   "outputs": [
    {
     "name": "stdout",
     "output_type": "stream",
     "text": [
      "Array original 2-D:\n",
      " [[0 0]\n",
      " [1 1]\n",
      " [2 2]]\n",
      "Inserción en la fila con índice 3 de número 300 para cada columna:\n",
      " [[  0   0]\n",
      " [  1   1]\n",
      " [  2   2]\n",
      " [300 300]]\n"
     ]
    }
   ],
   "source": [
    "print(\"Array original 2-D:\\n\", a_2d)\n",
    "print(\"Inserción en la fila con índice 3 de número 300 para cada columna:\\n\", np.insert(a_2d, 3, 300, axis=0))"
   ]
  },
  {
   "cell_type": "code",
   "execution_count": 63,
   "id": "2b27f832-d052-4787-aec0-26baec05f7e0",
   "metadata": {},
   "outputs": [
    {
     "name": "stdout",
     "output_type": "stream",
     "text": [
      "Array original 2-D:\n",
      " [[0 0]\n",
      " [1 1]\n",
      " [2 2]]\n",
      "Inserción en la fila con índice 1 de un array de 3 elementos distintos:\n",
      " [[  0   0]\n",
      " [100 200]\n",
      " [  1   1]\n",
      " [  2   2]]\n"
     ]
    }
   ],
   "source": [
    "print(\"Array original 2-D:\\n\", a_2d)\n",
    "print(\"Inserción en la fila con índice 1 de un array de 3 elementos distintos:\\n\", np.insert(a_2d, 1, [[100, 200]], axis=0))"
   ]
  },
  {
   "cell_type": "markdown",
   "id": "14c2f85d-fc2d-4b6b-86f1-442246817ea1",
   "metadata": {},
   "source": [
    "La función **delete** permite eliminar elementos de forma individual o por fila y/o columna, para esto, se debe pasar por parámetro a la función el array, el índice y el eje. En el siguiente código se crea un array de 1-D con la función **arange** de 12 elementos, posteriormente se rehace la forma a 3 filas y 4 columnas. \n",
    "\n",
    "En el primer ejemplo se pasa el array y una lista con los índices de los elementos a eliminar, observe que no se pasa el eje, esto significa que la función \"aplana\" el array o lo reconfigura a 1-D y elimina el primer y último elemento.\n",
    "\n",
    "En los ejemplos 2 y 3, se elimnan filas y columnas respectivamente, en el primero se elimina la fila con índice 1 y en el segundo la columna con índice 2. "
   ]
  },
  {
   "cell_type": "code",
   "execution_count": 64,
   "id": "d8b39d89-741e-4c27-9258-507adde23870",
   "metadata": {},
   "outputs": [
    {
     "data": {
      "text/plain": [
       "array([[ 1,  2,  3,  4],\n",
       "       [ 5,  6,  7,  8],\n",
       "       [ 9, 10, 11, 12]])"
      ]
     },
     "execution_count": 64,
     "metadata": {},
     "output_type": "execute_result"
    }
   ],
   "source": [
    "arr_del = np.arange(12) + 1\n",
    "arr_del_2d = arr_del.reshape((3, 4))\n",
    "arr_del_2d"
   ]
  },
  {
   "cell_type": "code",
   "execution_count": 65,
   "id": "a6c659f9-7920-41cc-b2d5-037d23140bf1",
   "metadata": {},
   "outputs": [
    {
     "name": "stdout",
     "output_type": "stream",
     "text": [
      "Se eliminan el primer y último elemento:\n",
      " [ 2  3  4  5  6  7  8  9 10 11]\n"
     ]
    }
   ],
   "source": [
    "print(\"Se eliminan el primer y último elemento:\\n\", np.delete(arr_del_2d, [0, 11], None)) "
   ]
  },
  {
   "cell_type": "code",
   "execution_count": 66,
   "id": "5b1a51a8-2310-4fa6-81f3-1e1583a7801e",
   "metadata": {},
   "outputs": [
    {
     "name": "stdout",
     "output_type": "stream",
     "text": [
      "Se elimina la fila con índice 1:\n",
      " [[ 1  2  3  4]\n",
      " [ 9 10 11 12]]\n"
     ]
    }
   ],
   "source": [
    "print(\"Se elimina la fila con índice 1:\\n\", np.delete(arr_del_2d, 1, axis=0))"
   ]
  },
  {
   "cell_type": "code",
   "execution_count": 67,
   "id": "8b8333f9-b1db-4248-8147-a28df65ac37b",
   "metadata": {},
   "outputs": [
    {
     "name": "stdout",
     "output_type": "stream",
     "text": [
      "Se elimina la columna con índice 2:\n",
      " [[ 1  2  4]\n",
      " [ 5  6  8]\n",
      " [ 9 10 12]]\n"
     ]
    }
   ],
   "source": [
    "print(\"Se elimina la columna con índice 2:\\n\", np.delete(arr_del_2d, 2, axis=1))"
   ]
  },
  {
   "cell_type": "markdown",
   "id": "899ef8c5-a7b3-4b9c-b575-014d01ba3f9a",
   "metadata": {},
   "source": [
    "La función **sort** ordena de manera ascendente de acuerdo con valor de los elementos, por defecto, ordena por columnas, es decir, en **axis=1**, NumPy toma cada valor de la fila y los ordena de forma ascendente de acuerdo con el índice de cada columna (0, 1,...,n), caso contrario, con **axis=0**, ordena los elementos por su valor conforme al valor ascendente del índice de cada fila (0, 1,...,n), asimsimo, se puede no asignar un índice (**None**) lo que implica que NumPy \"aplana\" el array y ordena los elementos de manera ascendente."
   ]
  },
  {
   "cell_type": "code",
   "execution_count": 68,
   "id": "30f44e44-8c77-42d2-9a04-02e6946489c0",
   "metadata": {},
   "outputs": [
    {
     "data": {
      "text/plain": [
       "array([[2, 1, 3],\n",
       "       [8, 9, 7],\n",
       "       [6, 4, 5]])"
      ]
     },
     "execution_count": 68,
     "metadata": {},
     "output_type": "execute_result"
    }
   ],
   "source": [
    "arr_sort = np.array([[2, 1, 3], [8, 9, 7], [6, 4, 5]])\n",
    "arr_sort"
   ]
  },
  {
   "cell_type": "code",
   "execution_count": 69,
   "id": "b118aafb-311a-4105-88ea-d3c13558bea0",
   "metadata": {},
   "outputs": [
    {
     "data": {
      "text/plain": [
       "array([[1, 2, 3],\n",
       "       [7, 8, 9],\n",
       "       [4, 5, 6]])"
      ]
     },
     "execution_count": 69,
     "metadata": {},
     "output_type": "execute_result"
    }
   ],
   "source": [
    "np.sort(arr_sort, axis=1)"
   ]
  },
  {
   "cell_type": "code",
   "execution_count": 70,
   "id": "cf951624-c862-4798-956c-e0ea6c46b657",
   "metadata": {},
   "outputs": [
    {
     "data": {
      "text/plain": [
       "array([[2, 1, 3],\n",
       "       [6, 4, 5],\n",
       "       [8, 9, 7]])"
      ]
     },
     "execution_count": 70,
     "metadata": {},
     "output_type": "execute_result"
    }
   ],
   "source": [
    "np.sort(arr_sort, axis=0)"
   ]
  },
  {
   "cell_type": "code",
   "execution_count": 71,
   "id": "4a990ea6-1e62-456a-8ca4-edb59374613e",
   "metadata": {},
   "outputs": [
    {
     "data": {
      "text/plain": [
       "array([1, 2, 3, 4, 5, 6, 7, 8, 9])"
      ]
     },
     "execution_count": 71,
     "metadata": {},
     "output_type": "execute_result"
    }
   ],
   "source": [
    "np.sort(arr_sort, None)"
   ]
  },
  {
   "cell_type": "markdown",
   "id": "f2336989-4f26-4cbf-9213-4a428ac56770",
   "metadata": {},
   "source": [
    "## Unir y dividir"
   ]
  },
  {
   "cell_type": "markdown",
   "id": "f2f35b3b-887c-40a9-848e-3bf45dbf3d81",
   "metadata": {},
   "source": [
    "Existe varias funciones en NumPy para unir arrays, una de ellas es **concatenate()** que ya se vió en la sección anterior, en este apartado se verán otras dos funciones, sin embargo existen más, pero solo nos concentraremos en **hstack()** y **vstack()** por ser de las más populares; en lo que respecta a la división, las funciones que se ejemplificaran son **split()**, **hsplit()** y **vsplit()**. "
   ]
  },
  {
   "cell_type": "markdown",
   "id": "78fb74b0-60de-43d4-a138-e0dd7c11f204",
   "metadata": {},
   "source": [
    "La función **hstack()** realiza la unión por el eje de las columnas (**axis=1**), es decir, concatena de forma horizontal."
   ]
  },
  {
   "cell_type": "code",
   "execution_count": 72,
   "id": "01446fe9-4b7a-439a-81b7-a34ecff2332c",
   "metadata": {},
   "outputs": [
    {
     "name": "stdout",
     "output_type": "stream",
     "text": [
      "[[1 2]\n",
      " [3 4]] \n",
      "\n",
      "[[5 6]\n",
      " [7 8]] \n",
      "\n",
      "Array unido de manera horizontal:\n",
      " [[1 2 5 6]\n",
      " [3 4 7 8]]\n"
     ]
    }
   ],
   "source": [
    "arr_hst_1 = np.array([[1, 2], [3, 4]])\n",
    "arr_hst_2 = np.array([[5, 6], [7, 8]])\n",
    "print(arr_hst_1,\"\\n\")\n",
    "print(arr_hst_2,\"\\n\")\n",
    "print(\"Array unido de manera horizontal:\\n\", np.hstack((arr_hst_1, arr_hst_2)))"
   ]
  },
  {
   "cell_type": "markdown",
   "id": "96094f99-fddf-4daf-afb9-3af157d389c6",
   "metadata": {},
   "source": [
    "La función **vstack()** realiza la unión por el eje de las filas (**axis=0**), es decir, concatena de forma vertical."
   ]
  },
  {
   "cell_type": "code",
   "execution_count": 73,
   "id": "c1ac5860-9382-4b71-acf8-ad2c238209c0",
   "metadata": {},
   "outputs": [
    {
     "name": "stdout",
     "output_type": "stream",
     "text": [
      "[[1 2]\n",
      " [3 4]] \n",
      "\n",
      "[[5 6]\n",
      " [7 8]] \n",
      "\n",
      "Array unido de manera vertical:\n",
      " [[1 2]\n",
      " [3 4]\n",
      " [5 6]\n",
      " [7 8]]\n"
     ]
    }
   ],
   "source": [
    "arr_vst_1 = np.array([[1, 2], [3, 4]])\n",
    "arr_vst_2 = np.array([[5, 6], [7, 8]])\n",
    "print(arr_vst_1,\"\\n\")\n",
    "print(arr_vst_2,\"\\n\")\n",
    "print(\"Array unido de manera vertical:\\n\", np.vstack((arr_vst_1, arr_vst_2)))"
   ]
  },
  {
   "cell_type": "markdown",
   "id": "739346a5-67fe-4c42-9285-148baf7ddc57",
   "metadata": {},
   "source": [
    "La función **split()** divide un array en varios sub-arrays a lo largo de un eje, se puede pasar como parámetro un número entero que es el total de sub-arrays, se debe tener en cuenta que el entero debe ser un divisor del número total de elementos, de lo contario NumPy envía un error, asimismo, se puede pasar la división por medio de una lista de índices, el número de índice índica a partir de que elemento inicia la división."
   ]
  },
  {
   "cell_type": "code",
   "execution_count": 74,
   "id": "da56ddca-9587-45f4-a843-f542809d8f34",
   "metadata": {},
   "outputs": [
    {
     "name": "stdout",
     "output_type": "stream",
     "text": [
      "[0 1 2 3 4 5 6 7 8]\n",
      "\n",
      "Dividir el array en tres sub-arrays:\n",
      " [array([0, 1, 2]), array([3, 4, 5]), array([6, 7, 8])]\n"
     ]
    }
   ],
   "source": [
    "arr_split_1d = np.arange(9)\n",
    "print(arr_split_1d)\n",
    "print(\"\\nDividir el array en tres sub-arrays:\\n\", np.split(arr_split_1d, 3))"
   ]
  },
  {
   "cell_type": "code",
   "execution_count": 75,
   "id": "2ffa61cc-df70-44b2-a064-2939583a8ab0",
   "metadata": {},
   "outputs": [
    {
     "name": "stdout",
     "output_type": "stream",
     "text": [
      "[[1 2 3 4]\n",
      " [5 6 7 8]]\n",
      "\n",
      "Divide el array 2-D en dos sub-arrays por el eje de las columnas:\n",
      " [array([[1, 2],\n",
      "       [5, 6]]), array([[3, 4],\n",
      "       [7, 8]])]\n"
     ]
    }
   ],
   "source": [
    "a_split_2d_ax1 = np.array([[1, 2, 3, 4], [5, 6, 7, 8]])\n",
    "print(a_split_2d_ax1)\n",
    "print(\"\\nDivide el array 2-D en dos sub-arrays por el eje de las columnas:\\n\", np.split(a_split_2d_ax1, 2, axis=1))"
   ]
  },
  {
   "cell_type": "code",
   "execution_count": 76,
   "id": "5c521725-65b3-4025-82e3-cb7e625e86eb",
   "metadata": {},
   "outputs": [
    {
     "name": "stdout",
     "output_type": "stream",
     "text": [
      "[[1 2 3 4]\n",
      " [5 6 7 8]]\n",
      "\n",
      "Divide el array 2-D a partir de la columna con índice 2:\n",
      " [array([[1, 2],\n",
      "       [5, 6]]), array([[3, 4],\n",
      "       [7, 8]])]\n"
     ]
    }
   ],
   "source": [
    "print(a_split_2d_ax1)\n",
    "print(\"\\nDivide el array 2-D a partir de la columna con índice 2:\\n\", np.split(a_split_2d_ax1, [2], axis=1))"
   ]
  },
  {
   "cell_type": "code",
   "execution_count": 77,
   "id": "fbef33eb-9685-45ee-b3d1-286a1742e2ee",
   "metadata": {},
   "outputs": [
    {
     "name": "stdout",
     "output_type": "stream",
     "text": [
      "[[1 2 3 4]\n",
      " [5 6 7 8]]\n",
      "\n",
      "Divide el array 2-D en dos sub-arrays por el eje de las filas:\n",
      " [array([[1, 2, 3, 4]]), array([[5, 6, 7, 8]])]\n"
     ]
    }
   ],
   "source": [
    "a_split_2d_ax0 = np.array([[1, 2, 3, 4], [5, 6, 7, 8]])\n",
    "print(a_split_2d_ax0)\n",
    "print(\"\\nDivide el array 2-D en dos sub-arrays por el eje de las filas:\\n\", np.split(a_split_2d_ax0, 2, axis=0)) "
   ]
  },
  {
   "cell_type": "code",
   "execution_count": 78,
   "id": "eb60b2ee-d728-4054-903a-b4fbcaa10e15",
   "metadata": {},
   "outputs": [
    {
     "name": "stdout",
     "output_type": "stream",
     "text": [
      "[[1 2 3 4]\n",
      " [5 6 7 8]]\n",
      "\n",
      "Divide el array 2-D a partir de la fila con índice 1:\n",
      " [array([[1, 2, 3, 4]]), array([[5, 6, 7, 8]])]\n"
     ]
    }
   ],
   "source": [
    "print(a_split_2d_ax0)\n",
    "print(\"\\nDivide el array 2-D a partir de la fila con índice 1:\\n\", np.split(a_split_2d_ax0, [1], axis=0))"
   ]
  },
  {
   "cell_type": "markdown",
   "id": "378f1a5b-081f-40f9-8bcf-9fa3a36dbf6b",
   "metadata": {},
   "source": [
    "La función **hsplit()** es equivalente a la función **split()** con eje de columnas, es decir, con parámetro de **axis=1**.  "
   ]
  },
  {
   "cell_type": "code",
   "execution_count": 79,
   "id": "29b63b44-c014-4dce-82fa-4bcf4a2e49e0",
   "metadata": {},
   "outputs": [],
   "source": [
    "arr_hsplit_2d = np.array([(0, 1, 2, 3), (4, 5, 6, 7), (8, 9, 10, 11), (12, 13, 14, 15)])"
   ]
  },
  {
   "cell_type": "code",
   "execution_count": 80,
   "id": "9f1e21f4-c2ae-42c2-9985-0e68bbaaa923",
   "metadata": {},
   "outputs": [
    {
     "name": "stdout",
     "output_type": "stream",
     "text": [
      "[[ 0  1  2  3]\n",
      " [ 4  5  6  7]\n",
      " [ 8  9 10 11]\n",
      " [12 13 14 15]]\n",
      "\n",
      "Divide el array en dos sub-arrays por el eje de las columnas:\n",
      " [[ 0  1]\n",
      " [ 4  5]\n",
      " [ 8  9]\n",
      " [12 13]] \n",
      "\n",
      " [[ 2  3]\n",
      " [ 6  7]\n",
      " [10 11]\n",
      " [14 15]]\n"
     ]
    }
   ],
   "source": [
    "print(arr_hsplit_2d)\n",
    "arr_hspl_1, arr_hspl_2 = np.hsplit(arr_hsplit_2d, 2)\n",
    "print(\"\\nDivide el array en dos sub-arrays por el eje de las columnas:\\n\", arr_hspl_1, \"\\n\\n\", arr_hspl_2) "
   ]
  },
  {
   "cell_type": "markdown",
   "id": "042434e9-e11f-4c38-ba9c-06625cf47b52",
   "metadata": {},
   "source": [
    "La función **vsplit()** es equivalente a la función **split()** con eje de las filas, es decir, con parámetro de **axis=0**. "
   ]
  },
  {
   "cell_type": "code",
   "execution_count": 81,
   "id": "13f70cea-cfdb-4e57-bf59-880b423e0865",
   "metadata": {},
   "outputs": [],
   "source": [
    "arr_vsplit_2d = np.array([(0, 1, 2, 3), (4, 5, 6, 7), (8, 9, 10, 11), (12, 13, 14, 15)])"
   ]
  },
  {
   "cell_type": "code",
   "execution_count": 82,
   "id": "a6f030f5-81a6-4f8d-ac79-ffc5194b3312",
   "metadata": {},
   "outputs": [
    {
     "name": "stdout",
     "output_type": "stream",
     "text": [
      "[[ 0  1  2  3]\n",
      " [ 4  5  6  7]\n",
      " [ 8  9 10 11]\n",
      " [12 13 14 15]]\n",
      "\n",
      "Divide el array en dos sub-arrays por el eje de las filas:\n",
      " [[0 1 2 3]\n",
      " [4 5 6 7]] \n",
      "\n",
      " [[ 8  9 10 11]\n",
      " [12 13 14 15]]\n"
     ]
    }
   ],
   "source": [
    "print(arr_vsplit_2d)\n",
    "arr_vspl_1, arr_vspl_2 = np.vsplit(arr_vsplit_2d, 2)\n",
    "print(\"\\nDivide el array en dos sub-arrays por el eje de las filas:\\n\", arr_vspl_1, \"\\n\\n\", arr_vspl_2) "
   ]
  },
  {
   "cell_type": "markdown",
   "id": "5788f300-4774-4e37-a4ed-fc1a314bbd67",
   "metadata": {},
   "source": [
    "## Funciones estadísticas"
   ]
  },
  {
   "cell_type": "markdown",
   "id": "981ca217-c2da-4e58-b1cc-fc6250245d76",
   "metadata": {},
   "source": [
    "### Mínimos y máximos"
   ]
  },
  {
   "cell_type": "markdown",
   "id": "9edf7efe-4a05-4b27-bf13-e724e660addc",
   "metadata": {},
   "source": [
    "Para explorar y conocer la naturaleza de los datos lo más común es apoyarse de algunas medidas estadísticas, como son la media, la mediana, la desviación estándar, etcétera. Numpy ofrece funcionas para conocer estos estadísticos, a continuación, se ejemplifican algunos de los más usuales para un análisis exploratorio de los datos (EAD por sus siglas en inglés). "
   ]
  },
  {
   "cell_type": "code",
   "execution_count": 83,
   "id": "89cf76bd-8ef4-42f5-b0a8-43344224cbdf",
   "metadata": {},
   "outputs": [
    {
     "data": {
      "text/plain": [
       "array([[30, 45, 10],\n",
       "       [15, 90, 40],\n",
       "       [20, 65, 25]])"
      ]
     },
     "execution_count": 83,
     "metadata": {},
     "output_type": "execute_result"
    }
   ],
   "source": [
    "arr_stats = np.array([[30, 45, 10], [15, 90, 40], [20, 65, 25]])\n",
    "arr_stats"
   ]
  },
  {
   "cell_type": "markdown",
   "id": "6d4472ea-5703-4b95-8a14-864c351a1c1b",
   "metadata": {},
   "source": [
    "En primer lugar, se presentán las funciones de valores mínimos y máximos, para ello se puede hacer uso de las funciones: **amin()** y **amax()**, o bien, las propias del objeto array creado: **min()** y **max()**, para las primeras es necesario pasar como argumento el array al cual se le quiere obtener la información.  "
   ]
  },
  {
   "cell_type": "code",
   "execution_count": 84,
   "id": "563e2fde-5bb7-419a-984a-42604f5b43d9",
   "metadata": {},
   "outputs": [
    {
     "name": "stdout",
     "output_type": "stream",
     "text": [
      "El valor mínimo de todo el array es:\n",
      " 10\n"
     ]
    }
   ],
   "source": [
    "# uso de amin()\n",
    "arr_st_amin = np.amin(arr_stats)\n",
    "print(\"El valor mínimo de todo el array es:\\n\", arr_st_amin)"
   ]
  },
  {
   "cell_type": "code",
   "execution_count": 85,
   "id": "ff067869-e56c-489d-a415-54c49a38e8b3",
   "metadata": {},
   "outputs": [
    {
     "name": "stdout",
     "output_type": "stream",
     "text": [
      "El valor mínimo de todo el array es:\n",
      " 10\n"
     ]
    }
   ],
   "source": [
    "# uso de min()\n",
    "arr_st_min = arr_stats.min()\n",
    "print(\"El valor mínimo de todo el array es:\\n\", arr_st_min)"
   ]
  },
  {
   "cell_type": "code",
   "execution_count": 86,
   "id": "42fd1273-b358-45c5-8bae-4a5d52e553f1",
   "metadata": {},
   "outputs": [
    {
     "name": "stdout",
     "output_type": "stream",
     "text": [
      "El valor máximo de todo el array es:\n",
      " 90\n"
     ]
    }
   ],
   "source": [
    "# uso de amax()\n",
    "arr_st_amax = np.amax(arr_stats)\n",
    "print(\"El valor máximo de todo el array es:\\n\", arr_st_amax)"
   ]
  },
  {
   "cell_type": "code",
   "execution_count": 87,
   "id": "34459b8f-5d0c-45d5-9cc7-a83e5d86b7fd",
   "metadata": {},
   "outputs": [
    {
     "name": "stdout",
     "output_type": "stream",
     "text": [
      "El valor máximo de todo el array es:\n",
      " 90\n"
     ]
    }
   ],
   "source": [
    "# uso de max()\n",
    "arr_st_max = arr_stats.max()\n",
    "print(\"El valor máximo de todo el array es:\\n\", arr_st_max)"
   ]
  },
  {
   "cell_type": "markdown",
   "id": "6fd49482-42dc-42d0-8b9a-9295a66c344f",
   "metadata": {},
   "source": [
    "Para obtener el valor mínimo y máximo para cada fila o columna se pasa como parámetro el eje o **axis** igual a 0 para filas y 1 para columnas como ya se ha visto. "
   ]
  },
  {
   "cell_type": "code",
   "execution_count": 88,
   "id": "c1817933-7c3f-4e50-ad0a-947568741cac",
   "metadata": {},
   "outputs": [
    {
     "name": "stdout",
     "output_type": "stream",
     "text": [
      "[[30 45 10]\n",
      " [15 90 40]\n",
      " [20 65 25]]\n",
      "Array con los elementos de valores mínimos para cada fila:\n",
      " [15 45 10]\n"
     ]
    }
   ],
   "source": [
    "print(arr_stats)\n",
    "arr_st_amin_ax0 = np.amin(arr_stats, axis=0)\n",
    "print(\"Array con los elementos de valores mínimos para cada fila:\\n\", arr_st_amin_ax0)"
   ]
  },
  {
   "cell_type": "code",
   "execution_count": 89,
   "id": "658bc4e8-2e46-4d58-ae70-b8853999b072",
   "metadata": {},
   "outputs": [
    {
     "name": "stdout",
     "output_type": "stream",
     "text": [
      "[[30 45 10]\n",
      " [15 90 40]\n",
      " [20 65 25]]\n",
      "Array con los elementos de valores mínimos para cada columna:\n",
      " [10 15 20]\n"
     ]
    }
   ],
   "source": [
    "print(arr_stats)\n",
    "arr_st_min_ax1 = arr_stats.min(axis=1)\n",
    "print(\"Array con los elementos de valores mínimos para cada columna:\\n\", arr_st_min_ax1)"
   ]
  },
  {
   "cell_type": "code",
   "execution_count": 90,
   "id": "f3711153-9a9c-4751-a495-b5fd4753f551",
   "metadata": {},
   "outputs": [
    {
     "name": "stdout",
     "output_type": "stream",
     "text": [
      "[[30 45 10]\n",
      " [15 90 40]\n",
      " [20 65 25]]\n",
      "Array con los elementos de valores máximos para cada fila:\n",
      " [30 90 40]\n"
     ]
    }
   ],
   "source": [
    "print(arr_stats)\n",
    "arr_st_amax_ax0 = np.amax(arr_stats, axis=0)\n",
    "print(\"Array con los elementos de valores máximos para cada fila:\\n\", arr_st_amax_ax0)"
   ]
  },
  {
   "cell_type": "code",
   "execution_count": 91,
   "id": "dd72ef86-bf93-431b-a299-ec5364ba922f",
   "metadata": {},
   "outputs": [
    {
     "name": "stdout",
     "output_type": "stream",
     "text": [
      "[[30 45 10]\n",
      " [15 90 40]\n",
      " [20 65 25]]\n",
      "Array con los elementos de valores máximos para cada columna:\n",
      " [45 90 65]\n"
     ]
    }
   ],
   "source": [
    "print(arr_stats)\n",
    "arr_st_max_ax1 = arr_stats.max(axis=1)\n",
    "print(\"Array con los elementos de valores máximos para cada columna:\\n\", arr_st_max_ax1)"
   ]
  },
  {
   "cell_type": "markdown",
   "id": "ef753868-c956-46e2-b64c-e6408b0d0ecb",
   "metadata": {},
   "source": [
    "### Media y media ponderada"
   ]
  },
  {
   "cell_type": "markdown",
   "id": "27f429c7-2899-4c9c-8a83-661f186a35c0",
   "metadata": {},
   "source": [
    "Al igual que con las funciones anteriores, se puede obtener el valor medio de todo el array, o bien, obtener un array con los valores medios ya sea para cada fila o columna esto con la función **mean()**, asimismo, se puede obtener una media ponderada al pasar como parámetro un array con pesos o la ponderación asociada a cada elemento.  "
   ]
  },
  {
   "cell_type": "code",
   "execution_count": 92,
   "id": "e26967d7-21b3-496a-8546-569d1e92eb20",
   "metadata": {},
   "outputs": [
    {
     "name": "stdout",
     "output_type": "stream",
     "text": [
      "[[30 45 10]\n",
      " [15 90 40]\n",
      " [20 65 25]]\n",
      "El valor de medio de todo el array:\n",
      " 37.77777777777778\n"
     ]
    }
   ],
   "source": [
    "print(arr_stats)\n",
    "print(\"El valor de medio de todo el array:\\n\", arr_stats.mean())"
   ]
  },
  {
   "cell_type": "code",
   "execution_count": 93,
   "id": "0df5a0a5-a39c-4b23-bd1f-86b119ef937d",
   "metadata": {},
   "outputs": [
    {
     "name": "stdout",
     "output_type": "stream",
     "text": [
      "[[30 45 10]\n",
      " [15 90 40]\n",
      " [20 65 25]]\n",
      "Los valores medios del array en cada fila son:\n",
      " [21.66666667 66.66666667 25.        ]\n"
     ]
    }
   ],
   "source": [
    "print(arr_stats)\n",
    "print(\"Los valores medios del array en cada fila son:\\n\", arr_stats.mean(axis=0))"
   ]
  },
  {
   "cell_type": "code",
   "execution_count": 94,
   "id": "8a8012ba-50a9-406c-83c5-b874a19a2ae1",
   "metadata": {},
   "outputs": [
    {
     "name": "stdout",
     "output_type": "stream",
     "text": [
      "[[30 45 10]\n",
      " [15 90 40]\n",
      " [20 65 25]]\n",
      "Los valores medios del array en cada columna son:\n",
      " [28.33333333 48.33333333 36.66666667]\n"
     ]
    }
   ],
   "source": [
    "print(arr_stats)\n",
    "print(\"Los valores medios del array en cada columna son:\\n\", arr_stats.mean(axis=1))"
   ]
  },
  {
   "cell_type": "markdown",
   "id": "6eb124a9-673d-44b3-9684-dd0f956d864d",
   "metadata": {},
   "source": [
    "Para calcular una media ponderada NumPy posee la función **average()**, la cual recibe como parámetro un array de pesos (**weights=**), este puede ser un array con pesos asociados a los valores del array, o bien, un array de 1-D con la misma longitud del eje dado, o bien, debe tener la misma forma del array. Si la función **average** no recibe el parámetro de pesos o ponderación retorna el mismo resultado que la función **mean()**.   "
   ]
  },
  {
   "cell_type": "code",
   "execution_count": 95,
   "id": "cc0dd9fa-9215-4c1f-a3d2-7ba44febf5de",
   "metadata": {},
   "outputs": [
    {
     "name": "stdout",
     "output_type": "stream",
     "text": [
      "Promedio sin ponderación:\n",
      " 12.0\n",
      "Promedio ponderado:\n",
      " 12.71875\n"
     ]
    }
   ],
   "source": [
    "arr_avg_1d = np.arange(10, 15)\n",
    "pesos = np.array([0.5, 0.75, 2.25, 1.5, 3])\n",
    "print(\"Promedio sin ponderación:\\n\", np.average(arr_avg_1d))\n",
    "print(\"Promedio ponderado:\\n\", np.average(arr_avg_1d, weights=pesos))"
   ]
  },
  {
   "cell_type": "code",
   "execution_count": 96,
   "id": "82ae441d-bb10-498f-9ac3-29d1b41b49bf",
   "metadata": {},
   "outputs": [
    {
     "name": "stdout",
     "output_type": "stream",
     "text": [
      "[[ 1  2  3  4]\n",
      " [ 5  6  7  8]\n",
      " [ 9 10 11 12]]\n",
      "Media ponderada para filas:\n",
      " [6.6 7.6 8.6 9.6]\n"
     ]
    }
   ],
   "source": [
    "arr_avg_2d = np.arange(1, 13).reshape(3, 4)\n",
    "print(arr_avg_2d)\n",
    "w_ax0 = np.array([2, 0.5, 5])\n",
    "print(\"Media ponderada para filas:\\n\", np.average(arr_avg_2d, weights=w_ax0, axis=0))"
   ]
  },
  {
   "cell_type": "code",
   "execution_count": 164,
   "id": "e814bff7-c6c1-4df1-a79f-b70e4e6333c2",
   "metadata": {},
   "outputs": [
    {
     "name": "stdout",
     "output_type": "stream",
     "text": [
      "[[ 1  2  3  4]\n",
      " [ 5  6  7  8]\n",
      " [ 9 10 11 12]]\n",
      "Media ponderada para columnas:\n",
      " [ 2.4516129  6.4516129 10.4516129]\n"
     ]
    }
   ],
   "source": [
    "print(arr_avg_2d)\n",
    "w_ax1 = np.array([2, 0.5, 5, 0.25])\n",
    "print(\"Media ponderada para columnas:\\n\", np.average(arr_avg_2d, weights=w_ax1, axis=1))"
   ]
  },
  {
   "cell_type": "markdown",
   "id": "d04fd44e-fffb-4367-909e-185f082b6cbb",
   "metadata": {},
   "source": [
    "### Mediana"
   ]
  },
  {
   "cell_type": "markdown",
   "id": "f3a7c11d-7356-4954-a28d-650c32a00212",
   "metadata": {},
   "source": [
    "NumPy tiene la función **median()** para devolver el valor de la mediana, asimismo, puede obtenerse para un eje en particular."
   ]
  },
  {
   "cell_type": "code",
   "execution_count": 98,
   "id": "fa535964-a8d3-4dcc-b9c7-fd0d3a39e87a",
   "metadata": {},
   "outputs": [
    {
     "name": "stdout",
     "output_type": "stream",
     "text": [
      "[[30 45 10]\n",
      " [15 90 40]\n",
      " [20 65 25]]\n",
      "Valor de la mediana de todo el array:\n",
      " 30.0\n"
     ]
    }
   ],
   "source": [
    "print(arr_stats) \n",
    "arr_median = np.median(arr_stats)\n",
    "print(\"Valor de la mediana de todo el array:\\n\", arr_median)"
   ]
  },
  {
   "cell_type": "code",
   "execution_count": 99,
   "id": "232fba36-5d95-4fe6-8262-9d5248b0f3b9",
   "metadata": {},
   "outputs": [
    {
     "name": "stdout",
     "output_type": "stream",
     "text": [
      "[[30 45 10]\n",
      " [15 90 40]\n",
      " [20 65 25]]\n",
      "Valores de la mediana por filas:\n",
      " [20. 65. 25.]\n"
     ]
    }
   ],
   "source": [
    "print(arr_stats)\n",
    "print(\"Valores de la mediana por filas:\\n\", np.median(arr_stats, axis=0))"
   ]
  },
  {
   "cell_type": "code",
   "execution_count": 100,
   "id": "85bf20ad-9b55-4f1b-93c0-c48be01707be",
   "metadata": {},
   "outputs": [
    {
     "name": "stdout",
     "output_type": "stream",
     "text": [
      "[[30 45 10]\n",
      " [15 90 40]\n",
      " [20 65 25]]\n",
      "Valores de la mediana por columnas:\n",
      " [30. 40. 25.]\n"
     ]
    }
   ],
   "source": [
    "print(arr_stats)\n",
    "print(\"Valores de la mediana por columnas:\\n\", np.median(arr_stats, axis=1)) "
   ]
  },
  {
   "cell_type": "markdown",
   "id": "c57ab6b3-1a00-44fa-b09d-be23743eb9a1",
   "metadata": {},
   "source": [
    "### Desviación estándar"
   ]
  },
  {
   "cell_type": "markdown",
   "id": "9981fc5a-5565-4096-be49-7f55403bd611",
   "metadata": {},
   "source": [
    "NumPy tiene la función **std()** para devolver la desviación estándar, asimismo, puede obtenerse para un eje en particular."
   ]
  },
  {
   "cell_type": "code",
   "execution_count": 101,
   "id": "973b8745-e55e-48c2-bd32-fe228465fda8",
   "metadata": {},
   "outputs": [
    {
     "name": "stdout",
     "output_type": "stream",
     "text": [
      "[[30 45 10]\n",
      " [15 90 40]\n",
      " [20 65 25]]\n",
      "Valor de la desviación estándar de todo el array:\n",
      " 24.393887111222387\n"
     ]
    }
   ],
   "source": [
    "print(arr_stats) \n",
    "arr_desv_estan = np.std(arr_stats)\n",
    "print(\"Valor de la desviación estándar de todo el array:\\n\", arr_desv_estan)"
   ]
  },
  {
   "cell_type": "code",
   "execution_count": 102,
   "id": "659e2955-e3ec-44fd-bb5a-16fbd99469fb",
   "metadata": {},
   "outputs": [
    {
     "name": "stdout",
     "output_type": "stream",
     "text": [
      "[[30 45 10]\n",
      " [15 90 40]\n",
      " [20 65 25]]\n",
      "Valores de la desviación estándar por filas:\n",
      " [ 6.23609564 18.40893503 12.24744871]\n"
     ]
    }
   ],
   "source": [
    "print(arr_stats)\n",
    "print(\"Valores de la desviación estándar por filas:\\n\", np.std(arr_stats, axis=0))"
   ]
  },
  {
   "cell_type": "code",
   "execution_count": 103,
   "id": "3aa9cbdc-cc0a-42a2-ba25-99e34f4ebca7",
   "metadata": {},
   "outputs": [
    {
     "name": "stdout",
     "output_type": "stream",
     "text": [
      "[[30 45 10]\n",
      " [15 90 40]\n",
      " [20 65 25]]\n",
      "Valores de la desviación estándar por columnas:\n",
      " [14.33720878 31.18047822 20.13840996]\n"
     ]
    }
   ],
   "source": [
    "print(arr_stats)\n",
    "print(\"Valores de la desviación estándar por columnas:\\n\", np.std(arr_stats, axis=1)) "
   ]
  },
  {
   "cell_type": "markdown",
   "id": "3213b8b4-c3a4-4bb3-9b99-6a1009786fca",
   "metadata": {},
   "source": [
    "### Varianza"
   ]
  },
  {
   "cell_type": "markdown",
   "id": "2650126c-3f90-4b1f-9b97-352c5f078bec",
   "metadata": {},
   "source": [
    "NumPy tiene la función **var()** para devolver la varianza, asimismo, puede obtenerse para un eje en particular."
   ]
  },
  {
   "cell_type": "code",
   "execution_count": 104,
   "id": "3557aa41-e4ba-47d9-9d47-76ec70f13dbd",
   "metadata": {},
   "outputs": [
    {
     "name": "stdout",
     "output_type": "stream",
     "text": [
      "[[30 45 10]\n",
      " [15 90 40]\n",
      " [20 65 25]]\n",
      "Valor de la varianza de todo el array:\n",
      " 595.0617283950618\n"
     ]
    }
   ],
   "source": [
    "print(arr_stats) \n",
    "arr_var = np.var(arr_stats)\n",
    "print(\"Valor de la varianza de todo el array:\\n\", arr_var)  "
   ]
  },
  {
   "cell_type": "code",
   "execution_count": 105,
   "id": "2bedc80b-2ce3-4ab6-b4e7-e6e6e816e0d4",
   "metadata": {},
   "outputs": [
    {
     "name": "stdout",
     "output_type": "stream",
     "text": [
      "[[30 45 10]\n",
      " [15 90 40]\n",
      " [20 65 25]]\n",
      "Valores de la varianza por filas:\n",
      " [ 38.88888889 338.88888889 150.        ]\n"
     ]
    }
   ],
   "source": [
    "print(arr_stats)\n",
    "print(\"Valores de la varianza por filas:\\n\", np.var(arr_stats, axis=0))"
   ]
  },
  {
   "cell_type": "code",
   "execution_count": 106,
   "id": "5ce0e9f9-01d5-47c6-882f-25d16368b04c",
   "metadata": {},
   "outputs": [
    {
     "name": "stdout",
     "output_type": "stream",
     "text": [
      "[[30 45 10]\n",
      " [15 90 40]\n",
      " [20 65 25]]\n",
      "Valores de la varianza por columnas:\n",
      " [205.55555556 972.22222222 405.55555556]\n"
     ]
    }
   ],
   "source": [
    "print(arr_stats)\n",
    "print(\"Valores de la varianza por columnas:\\n\", np.var(arr_stats, axis=1)) "
   ]
  },
  {
   "cell_type": "markdown",
   "id": "88dc7626-7577-4c00-9fe8-c114e7fb587a",
   "metadata": {},
   "source": [
    "### Percentiles"
   ]
  },
  {
   "cell_type": "markdown",
   "id": "546e3f24-fea7-45e1-aacb-5b7abc213da1",
   "metadata": {},
   "source": [
    "Para encontrar los valores percentil 'n' del array  NumPy provee la función **percentile()**, como ya se ha visto, se puede obtener el valor o los valores para un eje específicado, en caso de no proporcionar el parámetro del eje, la función proporcionará un valor escalar. Los parámetros principales de la función son: el array, el valor del percentile 'n' y el eje, para un aprendizaje más profundo puede visitar la [documentación oficial](https://numpy.org/doc/stable/reference/generated/numpy.percentile.html) o hacer uso de la función **help(<nombre_función>)**. "
   ]
  },
  {
   "cell_type": "code",
   "execution_count": 107,
   "id": "ea294f7b-1573-438e-821c-7bff21c52ed0",
   "metadata": {},
   "outputs": [
    {
     "name": "stdout",
     "output_type": "stream",
     "text": [
      "[[1 2 3 4]\n",
      " [5 6 7 8]\n",
      " [2 3 5 6]]\n",
      "Percentil 25 del array sin asignar eje:\n",
      " 2.75\n",
      "Percentil 50 del array sin asignar eje:\n",
      " 4.5\n",
      "Percentil 75 del array sin asignar eje:\n",
      " 6.0\n"
     ]
    }
   ],
   "source": [
    "arr_perc = np.array([[1, 2, 3, 4], [5, 6, 7, 8], [2, 3, 5, 6]])\n",
    "print(arr_perc)\n",
    "print(\"Percentil 25 del array sin asignar eje:\\n\", np.percentile(arr_perc, 25))\n",
    "print(\"Percentil 50 del array sin asignar eje:\\n\", np.percentile(arr_perc, 50))\n",
    "print(\"Percentil 75 del array sin asignar eje:\\n\", np.percentile(arr_perc, 75))"
   ]
  },
  {
   "cell_type": "markdown",
   "id": "51182145-e130-48a2-a41f-fe23549777c6",
   "metadata": {},
   "source": [
    "A modo de visualización de los resultados obtenidos, se programará el siguiente boxplot del array con una transformación a 1-D. Para esto, de **matplotlib** se importa el módulo **pyplot** usada para gráficos en Python, cabe mencionar que el tema de los gráficos no es objetivo de este documento, solo es un apoyo. Asimismo, se obtendrán los mismos percentiles para los ejes de filas y columnas con los correspondientes gráficos de caja.    "
   ]
  },
  {
   "cell_type": "code",
   "execution_count": 165,
   "id": "1d475934-9fe1-46ce-91dc-6bee04444cba",
   "metadata": {},
   "outputs": [
    {
     "data": {
      "image/png": "[encoded data removed]",
      "text/plain": [
       "<Figure size 640x480 with 1 Axes>"
      ]
     },
     "metadata": {},
     "output_type": "display_data"
    }
   ],
   "source": [
    "from matplotlib import pyplot as plt\n",
    "plt.boxplot(arr_perc.flatten())\n",
    "plt.style.use('ggplot')\n",
    "plt.show()"
   ]
  },
  {
   "cell_type": "code",
   "execution_count": 109,
   "id": "ae5b99dc-114c-4906-9adb-040b07b3b65a",
   "metadata": {},
   "outputs": [
    {
     "name": "stdout",
     "output_type": "stream",
     "text": [
      "[[1 2 3 4]\n",
      " [5 6 7 8]\n",
      " [2 3 5 6]]\n",
      "Percentil 25 del array para el eje de las filas:\n",
      " [1.5 2.5 4.  5. ]\n",
      "Percentil 50 del array para el eje de las filas:\n",
      " [2. 3. 5. 6.]\n",
      "Percentil 75 del array para el eje de las filas:\n",
      " [3.5 4.5 6.  7. ]\n"
     ]
    }
   ],
   "source": [
    "print(arr_perc)\n",
    "print(\"Percentil 25 del array para el eje de las filas:\\n\", np.percentile(arr_perc, 25, axis=0))\n",
    "print(\"Percentil 50 del array para el eje de las filas:\\n\", np.percentile(arr_perc, 50, axis=0))\n",
    "print(\"Percentil 75 del array para el eje de las filas:\\n\", np.percentile(arr_perc, 75, axis=0))"
   ]
  },
  {
   "cell_type": "code",
   "execution_count": 166,
   "id": "378998dc-d539-4ed7-861d-569282875017",
   "metadata": {},
   "outputs": [
    {
     "data": {
      "image/png": "[encoded data removed]",
      "text/plain": [
       "<Figure size 640x480 with 1 Axes>"
      ]
     },
     "metadata": {},
     "output_type": "display_data"
    }
   ],
   "source": [
    "plt.boxplot(arr_perc[:])\n",
    "plt.style.use('ggplot')\n",
    "plt.show()"
   ]
  },
  {
   "cell_type": "code",
   "execution_count": 111,
   "id": "36d36bd6-d13e-4fda-9f38-5ccb8c1c367f",
   "metadata": {},
   "outputs": [
    {
     "name": "stdout",
     "output_type": "stream",
     "text": [
      "[[1 2 3 4]\n",
      " [5 6 7 8]\n",
      " [2 3 5 6]]\n",
      "Percentil 25 del array para el eje de las columnas:\n",
      " [1.75 5.75 2.75]\n",
      "Percentil 50 del array para el eje de las columnas:\n",
      " [2.5 6.5 4. ]\n",
      "Percentil 75 del array para el eje de las columnas:\n",
      " [3.25 7.25 5.25]\n"
     ]
    }
   ],
   "source": [
    "print(arr_perc)\n",
    "print(\"Percentil 25 del array para el eje de las columnas:\\n\", np.percentile(arr_perc, 25, axis=1))\n",
    "print(\"Percentil 50 del array para el eje de las columnas:\\n\", np.percentile(arr_perc, 50, axis=1))\n",
    "print(\"Percentil 75 del array para el eje de las columnas:\\n\", np.percentile(arr_perc, 75, axis=1))"
   ]
  },
  {
   "cell_type": "code",
   "execution_count": 167,
   "id": "02693dad-d0e4-4d78-aff2-8618aa0df2de",
   "metadata": {},
   "outputs": [
    {
     "data": {
      "image/png": "[encoded data removed]",
      "text/plain": [
       "<Figure size 640x480 with 1 Axes>"
      ]
     },
     "metadata": {},
     "output_type": "display_data"
    }
   ],
   "source": [
    "plt.boxplot(arr_perc[:].T) # (T) transponer los ejes\n",
    "plt.style.use('ggplot')\n",
    "plt.show()"
   ]
  },
  {
   "cell_type": "markdown",
   "id": "dbb3909d-b581-485b-8f3a-7f08b45507fb",
   "metadata": {},
   "source": [
    "## Operaciones númericas básicas"
   ]
  },
  {
   "cell_type": "markdown",
   "id": "a33dd7b9-723f-4a1f-a432-8f4915c9c0cf",
   "metadata": {},
   "source": [
    "NumPy ofrece una gran cantidad de funciones matemáticas organizadas por categorías, algunas de estas son: funciones trigonométricas, hiperbólicas, redondeo, aritméticas, exponentes y logaritmos, entre muchas otras más, en este apartado solo se muestran algunas básicas de tipo aritmético y de exponente, si se desea conocer más se puede visitar la [documentación oficial.](https://numpy.org/doc/stable/reference/routines.math.html)\n",
    "\n",
    "Las primeras funciones aritméticas que se ejemplifican son las más básicas, sumar, restar, multiplicar y dividir, las operaciones se realiza elemento a elemento; en caso de que no tengan la misma forma, sí es importante que coincidan en la forma del array de salida. "
   ]
  },
  {
   "cell_type": "code",
   "execution_count": 113,
   "id": "7a6b64ee-768b-4f10-9652-7919dd67750a",
   "metadata": {},
   "outputs": [],
   "source": [
    "arr_op_bas_1 = np.arange(1, 13).reshape(3, 4)\n",
    "arr_op_bas_2 = np.arange(1, 5)"
   ]
  },
  {
   "cell_type": "code",
   "execution_count": 114,
   "id": "d639dc8c-2c77-4701-a295-d9562c28770d",
   "metadata": {},
   "outputs": [
    {
     "name": "stdout",
     "output_type": "stream",
     "text": [
      "[[ 1  2  3  4]\n",
      " [ 5  6  7  8]\n",
      " [ 9 10 11 12]] \n",
      "\n",
      "[1 2 3 4] \n",
      "\n",
      "Resultado de la suma:\n",
      " [[ 2  4  6  8]\n",
      " [ 6  8 10 12]\n",
      " [10 12 14 16]]\n"
     ]
    }
   ],
   "source": [
    "# suma\n",
    "print(arr_op_bas_1, \"\\n\") \n",
    "print(arr_op_bas_2, \"\\n\")\n",
    "print(\"Resultado de la suma:\\n\", np.add(arr_op_bas_1, arr_op_bas_2))"
   ]
  },
  {
   "cell_type": "code",
   "execution_count": 115,
   "id": "1355697a-6d88-4b48-bd7c-82a2a80ca8db",
   "metadata": {},
   "outputs": [
    {
     "name": "stdout",
     "output_type": "stream",
     "text": [
      "[[ 1  2  3  4]\n",
      " [ 5  6  7  8]\n",
      " [ 9 10 11 12]] \n",
      "\n",
      "[1 2 3 4] \n",
      "\n",
      "Resultado de la resta:\n",
      " [[0 0 0 0]\n",
      " [4 4 4 4]\n",
      " [8 8 8 8]]\n"
     ]
    }
   ],
   "source": [
    "# resta\n",
    "print(arr_op_bas_1, \"\\n\") \n",
    "print(arr_op_bas_2, \"\\n\")\n",
    "print(\"Resultado de la resta:\\n\", np.subtract(arr_op_bas_1, arr_op_bas_2))"
   ]
  },
  {
   "cell_type": "code",
   "execution_count": 116,
   "id": "4d08c6db-eef7-46cc-857c-1db0ecb6d1b3",
   "metadata": {},
   "outputs": [
    {
     "name": "stdout",
     "output_type": "stream",
     "text": [
      "[[ 1  2  3  4]\n",
      " [ 5  6  7  8]\n",
      " [ 9 10 11 12]] \n",
      "\n",
      "[1 2 3 4] \n",
      "\n",
      "Resultado de la multiplicación:\n",
      " [[ 1  4  9 16]\n",
      " [ 5 12 21 32]\n",
      " [ 9 20 33 48]]\n"
     ]
    }
   ],
   "source": [
    "# multiplicación\n",
    "print(arr_op_bas_1, \"\\n\") \n",
    "print(arr_op_bas_2, \"\\n\")\n",
    "print(\"Resultado de la multiplicación:\\n\", np.multiply(arr_op_bas_1, arr_op_bas_2))"
   ]
  },
  {
   "cell_type": "code",
   "execution_count": 117,
   "id": "0825dcb0-a841-434d-b69a-5097f8d80107",
   "metadata": {},
   "outputs": [
    {
     "name": "stdout",
     "output_type": "stream",
     "text": [
      "[[ 1  2  3  4]\n",
      " [ 5  6  7  8]\n",
      " [ 9 10 11 12]] \n",
      "\n",
      "[1 2 3 4] \n",
      "\n",
      "Resultado de la división:\n",
      " [[1.         1.         1.         1.        ]\n",
      " [5.         3.         2.33333333 2.        ]\n",
      " [9.         5.         3.66666667 3.        ]]\n"
     ]
    }
   ],
   "source": [
    "# división\n",
    "print(arr_op_bas_1, \"\\n\") \n",
    "print(arr_op_bas_2, \"\\n\")\n",
    "print(\"Resultado de la división:\\n\", np.divide(arr_op_bas_1, arr_op_bas_2))"
   ]
  },
  {
   "cell_type": "markdown",
   "id": "9a10a7fa-15f8-48c0-9280-482c08dba383",
   "metadata": {},
   "source": [
    "La función **power()** retorna el primer array elevado al segundo a un valor escalar."
   ]
  },
  {
   "cell_type": "code",
   "execution_count": 118,
   "id": "7b1b9629-2288-40e2-a273-55bd8ec6392b",
   "metadata": {},
   "outputs": [
    {
     "name": "stdout",
     "output_type": "stream",
     "text": [
      "[[ 1  2  3  4]\n",
      " [ 5  6  7  8]\n",
      " [ 9 10 11 12]]\n",
      "Array elevado a una potencia de 2:\n",
      " [[  1   4   9  16]\n",
      " [ 25  36  49  64]\n",
      " [ 81 100 121 144]]\n"
     ]
    }
   ],
   "source": [
    "print(arr_op_bas_1)\n",
    "print(\"Array elevado a una potencia de 2:\\n\", np.power(arr_op_bas_1, 2))"
   ]
  },
  {
   "cell_type": "code",
   "execution_count": 119,
   "id": "e49ea0f3-68e9-4f3f-9191-2e5f0d147600",
   "metadata": {},
   "outputs": [
    {
     "name": "stdout",
     "output_type": "stream",
     "text": [
      "[1 2 3 4]\n",
      "Array elevado a una potencia de 3:\n",
      " [ 1  8 27 64]\n"
     ]
    }
   ],
   "source": [
    "print(arr_op_bas_2)\n",
    "print(\"Array elevado a una potencia de 3:\\n\", np.power(arr_op_bas_2, 3))"
   ]
  },
  {
   "cell_type": "code",
   "execution_count": 120,
   "id": "8b09ee93-3a18-46fd-95b4-f40aa25438ca",
   "metadata": {},
   "outputs": [
    {
     "name": "stdout",
     "output_type": "stream",
     "text": [
      "Array elevado a una potencia de otro array:\n",
      " [[    1     4    27   256]\n",
      " [    5    36   343  4096]\n",
      " [    9   100  1331 20736]]\n"
     ]
    }
   ],
   "source": [
    "print(\"Array elevado a una potencia de otro array:\\n\", np.power(arr_op_bas_1, arr_op_bas_2))"
   ]
  },
  {
   "cell_type": "markdown",
   "id": "e1ec3486-9177-4720-8d09-a447813ae01d",
   "metadata": {},
   "source": [
    "La función **mod()** retorna el residuo o resto de una división entre arrays por elemento, esta función es equivalente a la función **remainder()**."
   ]
  },
  {
   "cell_type": "code",
   "execution_count": 121,
   "id": "0c5cfd55-c67f-40d7-a793-d47a95c57797",
   "metadata": {},
   "outputs": [
    {
     "name": "stdout",
     "output_type": "stream",
     "text": [
      "[[13 15 16 14]\n",
      " [20 45 58 38]\n",
      " [ 8 10 19 12]] \n",
      "\n",
      "[2 5 4 3]\n"
     ]
    }
   ],
   "source": [
    "arr_op_bas_3 = np.array([[13, 15, 16, 14], [20, 45, 58, 38], [8, 10, 19, 12]])\n",
    "print(arr_op_bas_3, \"\\n\")\n",
    "arr_op_bas_4 = np.array([2, 5, 4, 3])\n",
    "print(arr_op_bas_4)"
   ]
  },
  {
   "cell_type": "code",
   "execution_count": 122,
   "id": "66a8fdd6-4453-4100-9975-b43232e5fa4a",
   "metadata": {},
   "outputs": [
    {
     "name": "stdout",
     "output_type": "stream",
     "text": [
      "Array con los residuos:\n",
      " [[1 0 0 2]\n",
      " [0 0 2 2]\n",
      " [0 0 3 0]]\n"
     ]
    }
   ],
   "source": [
    "print(\"Array con los residuos:\\n\", np.mod(arr_op_bas_3, arr_op_bas_4))"
   ]
  },
  {
   "cell_type": "code",
   "execution_count": 123,
   "id": "26c943ff-e39a-4396-83f8-f518507798ee",
   "metadata": {},
   "outputs": [
    {
     "name": "stdout",
     "output_type": "stream",
     "text": [
      "Array con los residuos:\n",
      " [[1 0 0 2]\n",
      " [0 0 2 2]\n",
      " [0 0 3 0]]\n"
     ]
    }
   ],
   "source": [
    "print(\"Array con los residuos:\\n\", np.remainder(arr_op_bas_3, arr_op_bas_4))"
   ]
  },
  {
   "cell_type": "markdown",
   "id": "e6302778-5740-4517-a203-eec04741ffb4",
   "metadata": {},
   "source": [
    "La función **sqrt()** devuelve la raíz cuadrada no negativa por elementos."
   ]
  },
  {
   "cell_type": "code",
   "execution_count": 124,
   "id": "2680d4e4-da2e-4f44-9e6b-4c88c9fa2d50",
   "metadata": {},
   "outputs": [
    {
     "name": "stdout",
     "output_type": "stream",
     "text": [
      "[[13 15 16 14]\n",
      " [20 45 58 38]\n",
      " [ 8 10 19 12]]\n",
      "Raíz cuadrada no negativa de cada elemento:\n",
      " [[3.60555128 3.87298335 4.         3.74165739]\n",
      " [4.47213595 6.70820393 7.61577311 6.164414  ]\n",
      " [2.82842712 3.16227766 4.35889894 3.46410162]]\n"
     ]
    }
   ],
   "source": [
    "print(arr_op_bas_3)\n",
    "print(\"Raíz cuadrada no negativa de cada elemento:\\n\", np.sqrt(arr_op_bas_3))"
   ]
  },
  {
   "cell_type": "markdown",
   "id": "c11c9d34-70ed-4a0c-b6b4-a6a43653883f",
   "metadata": {},
   "source": [
    "## Escritura en archivos"
   ]
  },
  {
   "cell_type": "markdown",
   "id": "94967e3c-cc75-495d-bc97-2c4cb513e8bc",
   "metadata": {},
   "source": [
    "Para la escritura de datos en archivos NumPy proporciona diferentes formatos y funciones para esto, entre algunos formatos están los de tipo binario, texto, binarios sin formato, formato de cadena, de mapeo en memoria, entre otros, si desea más información puede dirigirse al siguiente [enlace](https://numpy.org/doc/stable/reference/routines.io.html#). \n",
    "\n",
    "En este apartado sólo se ejemplificarán dos funciones: **save()** y **savetxt()**, de formatos binario y texto respectivamente.\n",
    "\n",
    "La función **save()** como se mencionó guarda un array en un archivo binario con formato **.npy** que es una extensión de un formato interno de NumPy, los parámetros indispensables son la cadena de texto con la ubicación donde se guardará, así como nombre y extensión del archivo, el siguiente es el nombre del objeto o array que se va a escribir.    "
   ]
  },
  {
   "cell_type": "code",
   "execution_count": 125,
   "id": "f133e66b-6c1b-47da-803e-26b4c2835547",
   "metadata": {},
   "outputs": [
    {
     "data": {
      "text/plain": [
       "array([[ 0,  1,  2,  3],\n",
       "       [ 4,  5,  6,  7],\n",
       "       [ 8,  9, 10, 11],\n",
       "       [12, 13, 14, 15],\n",
       "       [16, 17, 18, 19],\n",
       "       [20, 21, 22, 23]])"
      ]
     },
     "execution_count": 125,
     "metadata": {},
     "output_type": "execute_result"
    }
   ],
   "source": [
    "arr_save = np.arange(24).reshape(6, 4)\n",
    "arr_save"
   ]
  },
  {
   "cell_type": "code",
   "execution_count": 126,
   "id": "306b774f-f467-4535-a2fb-8986a75240b1",
   "metadata": {},
   "outputs": [],
   "source": [
    "np.save(\"../data/arr_save.npy\", arr_save)"
   ]
  },
  {
   "cell_type": "markdown",
   "id": "43bd62d6-4f9f-4e47-be24-0eea25c0fc7e",
   "metadata": {},
   "source": [
    "La función **savetxt()** escribe el contenico de un array en un archivo de texto plano, entre los parámetros más importantes a pasar son la cadena con la ubicación dónde se va a guardar y el nombre y extensión del archivo, el array u objeto a escribir, el delimitador, existen otros parámetros que se pueden revisar en la siguiente [liga.](https://numpy.org/doc/stable/reference/generated/numpy.savetxt.html)"
   ]
  },
  {
   "cell_type": "code",
   "execution_count": 127,
   "id": "47b6fc52-19d1-4cd2-8e77-343aa0fc6418",
   "metadata": {},
   "outputs": [
    {
     "data": {
      "text/plain": [
       "array([[ 0,  2,  4,  6,  8],\n",
       "       [10, 12, 14, 16, 18],\n",
       "       [20, 22, 24, 26, 28],\n",
       "       [30, 32, 34, 36, 38]])"
      ]
     },
     "execution_count": 127,
     "metadata": {},
     "output_type": "execute_result"
    }
   ],
   "source": [
    "arr_savetxt = np.arange(0, 40, 2).reshape(4, 5)\n",
    "arr_savetxt"
   ]
  },
  {
   "cell_type": "code",
   "execution_count": 128,
   "id": "dbebe661-9b07-4c40-a718-5941d8671423",
   "metadata": {},
   "outputs": [],
   "source": [
    "np.savetxt('../data/arr_savetxt.csv', arr_savetxt, delimiter=',')"
   ]
  },
  {
   "cell_type": "markdown",
   "id": "1f551b05-196b-4bee-aa19-72985ae20ac8",
   "metadata": {},
   "source": [
    "## Lectura de archivos"
   ]
  },
  {
   "cell_type": "markdown",
   "id": "d8b15eaa-e49c-4772-97ee-3dbc3ca7d429",
   "metadata": {},
   "source": [
    "De igual manera, para la lectura de archivos NumPy ofrece varias [opciones](https://numpy.org/doc/stable/reference/routines.io.html), sin embargo, en este apartado nos concentraremos en las funciones para leer los archivos anteriormente guardados, para ello se hará uso de las funciones **load()** para archivos con extensión **.npy** y **.npz**, y la función **loadtxt()** para la lectura de archivos de texto plano, para esta última destaca el parámetro **delimiter** que recibe un string con el delimitador entre elementos o datos. Para este último ejemplo se hace uso de la función **astype()** para asignar el tipo de dato, ya que por defecto NumPy lo asigna en tipo decimal o float.  "
   ]
  },
  {
   "cell_type": "code",
   "execution_count": 129,
   "id": "756fd5c4-d172-4de0-a6ae-f0eb7acc3b45",
   "metadata": {},
   "outputs": [
    {
     "data": {
      "text/plain": [
       "array([[ 0,  1,  2,  3],\n",
       "       [ 4,  5,  6,  7],\n",
       "       [ 8,  9, 10, 11],\n",
       "       [12, 13, 14, 15],\n",
       "       [16, 17, 18, 19],\n",
       "       [20, 21, 22, 23]])"
      ]
     },
     "execution_count": 129,
     "metadata": {},
     "output_type": "execute_result"
    }
   ],
   "source": [
    "arr_load = np.load(\"../data/arr_save.npy\")\n",
    "arr_load"
   ]
  },
  {
   "cell_type": "code",
   "execution_count": 130,
   "id": "d714e01a-a038-43d1-bb51-f4d96d3a1904",
   "metadata": {},
   "outputs": [
    {
     "data": {
      "text/plain": [
       "array([[ 0,  2,  4,  6,  8],\n",
       "       [10, 12, 14, 16, 18],\n",
       "       [20, 22, 24, 26, 28],\n",
       "       [30, 32, 34, 36, 38]], dtype=int64)"
      ]
     },
     "execution_count": 130,
     "metadata": {},
     "output_type": "execute_result"
    }
   ],
   "source": [
    "arr_loadtxt = np.loadtxt(\"../data/arr_savetxt.csv\", delimiter=',').astype(np.int64)\n",
    "arr_loadtxt"
   ]
  },
  {
   "cell_type": "markdown",
   "id": "ade9c45e-4dec-4d60-a4e2-5ebe3faedc8b",
   "metadata": {},
   "source": [
    "Para obtener el archivo puede visitar la siguiente liga:\n",
    "\n",
    "**https://github.com/LandinGabriel13/Introduccion_a_NumPy**"
   ]
  }
 ],
 "metadata": {
  "kernelspec": {
   "display_name": "Python 3 (ipykernel)",
   "language": "python",
   "name": "python3"
  },
  "language_info": {
   "codemirror_mode": {
    "name": "ipython",
    "version": 3
   },
   "file_extension": ".py",
   "mimetype": "text/x-python",
   "name": "python",
   "nbconvert_exporter": "python",
   "pygments_lexer": "ipython3",
   "version": "3.12.1"
  }
 },
 "nbformat": 4,
 "nbformat_minor": 5
}
